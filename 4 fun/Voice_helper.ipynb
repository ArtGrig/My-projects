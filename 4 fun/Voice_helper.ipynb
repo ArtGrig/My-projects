{
 "cells": [
  {
   "cell_type": "code",
   "execution_count": 7,
   "id": "6ae2ac89",
   "metadata": {},
   "outputs": [],
   "source": [
    "#Голосовой ассистент Фрося\n",
    "import os\n",
    "import sys\n",
    "import random\n",
    "import speech_recognition as sr\n",
    "import pyttsx3\n",
    "import time\n",
    "from fuzzywuzzy import fuzz\n",
    "import datetime\n",
    "import webbrowser"
   ]
  },
  {
   "cell_type": "code",
   "execution_count": 8,
   "id": "b8a451ff",
   "metadata": {},
   "outputs": [],
   "source": [
    "# настройки\n",
    "opts = {\n",
    "    \"alias\": ('фрося','ефросиния', 'ефросинья'),\n",
    "    \"tbr\": ('скажи','расскажи','покажи','сколько','произнеси', 'открой'),\n",
    "    \"cmds\": {\n",
    "        \"ctime\": ('текущее время','сейчас времени','который час'),\n",
    "        \"radio\": ('включи музыку','воспроизведи радио','включи радио'),\n",
    "        \"stupid1\": ('расскажи анекдот','рассмеши меня','ты знаешь анекдоты'),\n",
    "        \"mail\": ('почту', 'mail'),\n",
    "        \"discord\": ('discord'),\n",
    "        \"desk\": ('доску', 'доска'),\n",
    "        \"stop\": ('пока', 'stop', 'стоп')\n",
    "    }\n",
    "}"
   ]
  },
  {
   "cell_type": "code",
   "execution_count": 9,
   "id": "83ca0af8",
   "metadata": {},
   "outputs": [],
   "source": [
    "def speak(what):\n",
    "    print( what )\n",
    "    speak_engine.say( what )\n",
    "    speak_engine.runAndWait()\n",
    "    speak_engine.stop()"
   ]
  },
  {
   "cell_type": "code",
   "execution_count": 10,
   "id": "9a966a98",
   "metadata": {},
   "outputs": [],
   "source": [
    "def callback(recognizer, audio):\n",
    "    try:\n",
    "        voice = recognizer.recognize_google(audio, language = \"ru-RU\").lower()\n",
    "        print(\"[log] Распознано: \" + voice)\n",
    "    \n",
    "        if voice.startswith(opts[\"alias\"]):\n",
    "            # обращаются к Кеше\n",
    "            cmd = voice\n",
    "            \n",
    "            for x in opts['alias']:\n",
    "                cmd = cmd.replace(x, \"\").strip()\n",
    "            \n",
    "            for x in opts['tbr']:\n",
    "                cmd = cmd.replace(x, \"\").strip()\n",
    "            \n",
    "            # распознаем и выполняем команду\n",
    "            cmd = recognize_cmd(cmd)\n",
    "            execute_cmd(cmd['cmd'])\n",
    "            \n",
    "    except sr.UnknownValueError:\n",
    "        print(\"[log] Голос не распознан!\")\n",
    "    except sr.RequestError as e:\n",
    "        print(\"[log] Неизвестная ошибка, проверьте интернет!\")"
   ]
  },
  {
   "cell_type": "code",
   "execution_count": 11,
   "id": "8846d891",
   "metadata": {},
   "outputs": [],
   "source": [
    "def recognize_cmd(cmd):\n",
    "    RC = {'cmd': '', 'percent': 0}\n",
    "    for c,v in opts['cmds'].items():\n",
    "        \n",
    "        for x in v:\n",
    "            vrt = fuzz.ratio(cmd, x)\n",
    "            if vrt > RC['percent']:\n",
    "                RC['cmd'] = c\n",
    "                RC['percent'] = vrt\n",
    "    \n",
    "    return RC"
   ]
  },
  {
   "cell_type": "code",
   "execution_count": 12,
   "id": "a683c6ff",
   "metadata": {},
   "outputs": [
    {
     "ename": "SyntaxError",
     "evalue": "'break' outside loop (Temp/ipykernel_10264/715528387.py, line 33)",
     "output_type": "error",
     "traceback": [
      "\u001b[1;36m  File \u001b[1;32m\"c:\\Temp/ipykernel_10264/715528387.py\"\u001b[1;36m, line \u001b[1;32m33\u001b[0m\n\u001b[1;33m    break\u001b[0m\n\u001b[1;37m    ^\u001b[0m\n\u001b[1;31mSyntaxError\u001b[0m\u001b[1;31m:\u001b[0m 'break' outside loop\n"
     ]
    }
   ],
   "source": [
    "def execute_cmd(cmd):\n",
    "    if cmd == 'ctime':\n",
    "        # сказать текущее время\n",
    "        now = datetime.datetime.now()\n",
    "        speak(\"Сейчас \" + str(now.hour) + \":\" + str(now.minute))\n",
    "    \n",
    "    elif cmd == 'radio':\n",
    "        # воспроизвести радио\n",
    "        webbrowser.open('https://www.youtube.com/watch?v=bZRemXbO7kU', new=2)\n",
    "        #os.system(\"D:\\\\Jarvis\\\\res\\\\radio_record.m3u\")\n",
    "    \n",
    "    elif cmd == 'stupid1':\n",
    "        # рассказать анекдот\n",
    "        speak(\"Мой разработчик не научил меня анекдотам ... Ха ха ха\")\n",
    "        \n",
    "    elif cmd == 'mail':\n",
    "        # открыть почту\n",
    "        webbrowser.open('https://e.mail.ru/inbox/', new=2)\n",
    "        webbrowser.open('https://mail.google.com/mail/u/0/#inbox', new=2)\n",
    "        \n",
    "    elif cmd == 'discord':\n",
    "        # открыть дискорд\n",
    "        os.startfile(r\"C:\\Users\\Арт\\AppData\\Local\\Discord\\app-1.0.9003\\Discord.exe\")\n",
    "        \n",
    "    elif cmd == 'desk':\n",
    "        # открыть почту\n",
    "        webbrowser.open('https://miro.com/app/board/o9J_lwWl7aY=/', new=2)\n",
    "        \n",
    "    elif cmd == 'stop':\n",
    "        # закрывает помошник\n",
    "        speak(\"До скорой встречи\")\n",
    "        #sys.exit()      \n",
    "        \n",
    "    else:\n",
    "        print('Команда не распознана, повторите!')"
   ]
  },
  {
   "cell_type": "code",
   "execution_count": null,
   "id": "6d4342c3",
   "metadata": {},
   "outputs": [],
   "source": [
    "# запуск\n",
    "r = sr.Recognizer()\n",
    "m = sr.Microphone(device_index = 1)\n",
    " \n",
    "with m as source:\n",
    "    r.adjust_for_ambient_noise(source)\n",
    "    \n",
    "speak_engine = pyttsx3.init()\n",
    "\n",
    "#speak(\"Мой разработчик не научил меня анекдотам ... Ха ха ха\")\n",
    " \n",
    "speak(\"Добрый день\")\n",
    "speak(\"Фрося слушает\")\n",
    " \n",
    "stop_listening = r.listen_in_background(m, callback)\n",
    "while True: time.sleep(0.1) # infinity loop"
   ]
  },
  {
   "cell_type": "code",
   "execution_count": null,
   "id": "cd642a05",
   "metadata": {},
   "outputs": [],
   "source": []
  },
  {
   "cell_type": "code",
   "execution_count": null,
   "id": "67b7bca8",
   "metadata": {},
   "outputs": [],
   "source": []
  }
 ],
 "metadata": {
  "kernelspec": {
   "display_name": "Python 3 (ipykernel)",
   "language": "python",
   "name": "python3"
  },
  "language_info": {
   "codemirror_mode": {
    "name": "ipython",
    "version": 3
   },
   "file_extension": ".py",
   "mimetype": "text/x-python",
   "name": "python",
   "nbconvert_exporter": "python",
   "pygments_lexer": "ipython3",
   "version": "3.9.7"
  }
 },
 "nbformat": 4,
 "nbformat_minor": 5
}
