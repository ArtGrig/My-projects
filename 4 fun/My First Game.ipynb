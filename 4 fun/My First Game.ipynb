{
 "cells": [
  {
   "cell_type": "code",
   "execution_count": 1,
   "metadata": {},
   "outputs": [
    {
     "name": "stdout",
     "output_type": "stream",
     "text": [
      "pygame 2.1.0 (SDL 2.0.16, Python 3.9.7)\n",
      "Hello from the pygame community. https://www.pygame.org/contribute.html\n"
     ]
    }
   ],
   "source": [
    "import pygame as pg\n",
    "#from pygame import move\n",
    "#from pygame import *"
   ]
  },
  {
   "cell_type": "code",
   "execution_count": 2,
   "metadata": {},
   "outputs": [],
   "source": [
    "pg.init()\n",
    "\n",
    "win = pg.display.set_mode((500,500))\n",
    "pg.display.set_caption(\"My Game\")\n",
    "\n",
    "x = 100\n",
    "y = 100\n",
    "w = 40\n",
    "h = 20\n",
    "speed = 10\n",
    "\n",
    "run = True\n",
    "while run == True:\n",
    "    pg.time.delay(100)\n",
    "    \n",
    "    for event in pg.event.get():\n",
    "        if event.type == pg.QUIT:\n",
    "            run = False\n",
    "    \n",
    "    x += speed\n",
    "    y += speed/2\n",
    "    \n",
    "    win.fill((0,100,100))\n",
    "    \n",
    "    pg.draw.rect(win, (0,0,250), (x, y, w, h))\n",
    "    pg.display.update()\n",
    "\n",
    "pg.quit()"
   ]
  },
  {
   "cell_type": "code",
   "execution_count": null,
   "metadata": {},
   "outputs": [],
   "source": []
  }
 ],
 "metadata": {
  "kernelspec": {
   "display_name": "Python 3 (ipykernel)",
   "language": "python",
   "name": "python3"
  },
  "language_info": {
   "codemirror_mode": {
    "name": "ipython",
    "version": 3
   },
   "file_extension": ".py",
   "mimetype": "text/x-python",
   "name": "python",
   "nbconvert_exporter": "python",
   "pygments_lexer": "ipython3",
   "version": "3.9.7"
  }
 },
 "nbformat": 4,
 "nbformat_minor": 2
}
