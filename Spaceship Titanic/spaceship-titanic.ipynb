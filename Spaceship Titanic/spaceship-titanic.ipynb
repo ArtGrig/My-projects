{
 "cells": [
  {
   "cell_type": "code",
   "execution_count": 1,
   "id": "33f482d9",
   "metadata": {
    "_cell_guid": "b1076dfc-b9ad-4769-8c92-a6c4dae69d19",
    "_uuid": "8f2839f25d086af736a60e9eeb907d3b93b6e0e5",
    "execution": {
     "iopub.execute_input": "2022-03-24T15:24:45.684394Z",
     "iopub.status.busy": "2022-03-24T15:24:45.683546Z",
     "iopub.status.idle": "2022-03-24T15:24:45.693551Z",
     "shell.execute_reply": "2022-03-24T15:24:45.693902Z",
     "shell.execute_reply.started": "2022-03-24T15:07:26.695180Z"
    },
    "papermill": {
     "duration": 0.050454,
     "end_time": "2022-03-24T15:24:45.694159",
     "exception": false,
     "start_time": "2022-03-24T15:24:45.643705",
     "status": "completed"
    },
    "tags": []
   },
   "outputs": [
    {
     "name": "stdout",
     "output_type": "stream",
     "text": [
      "/kaggle/input/spaceship-titanic/sample_submission.csv\n",
      "/kaggle/input/spaceship-titanic/train.csv\n",
      "/kaggle/input/spaceship-titanic/test.csv\n"
     ]
    }
   ],
   "source": [
    "# This Python 3 environment comes with many helpful analytics libraries installed\n",
    "# It is defined by the kaggle/python Docker image: https://github.com/kaggle/docker-python\n",
    "# For example, here's several helpful packages to load\n",
    "\n",
    "import numpy as np # linear algebra\n",
    "import pandas as pd # data processing, CSV file I/O (e.g. pd.read_csv)\n",
    "\n",
    "# Input data files are available in the read-only \"../input/\" directory\n",
    "# For example, running this (by clicking run or pressing Shift+Enter) will list all files under the input directory\n",
    "\n",
    "import os\n",
    "for dirname, _, filenames in os.walk('/kaggle/input'):\n",
    "    for filename in filenames:\n",
    "        print(os.path.join(dirname, filename))\n",
    "\n",
    "# You can write up to 20GB to the current directory (/kaggle/working/) that gets preserved as output when you create a version using \"Save & Run All\" \n",
    "# You can also write temporary files to /kaggle/temp/, but they won't be saved outside of the current session"
   ]
  },
  {
   "cell_type": "markdown",
   "id": "67b2f9dd",
   "metadata": {
    "papermill": {
     "duration": 0.034796,
     "end_time": "2022-03-24T15:24:45.765285",
     "exception": false,
     "start_time": "2022-03-24T15:24:45.730489",
     "status": "completed"
    },
    "tags": []
   },
   "source": [
    "# Import"
   ]
  },
  {
   "cell_type": "code",
   "execution_count": 2,
   "id": "6c4218a4",
   "metadata": {
    "execution": {
     "iopub.execute_input": "2022-03-24T15:24:45.844726Z",
     "iopub.status.busy": "2022-03-24T15:24:45.838393Z",
     "iopub.status.idle": "2022-03-24T15:24:47.512300Z",
     "shell.execute_reply": "2022-03-24T15:24:47.511749Z",
     "shell.execute_reply.started": "2022-03-24T15:07:27.073639Z"
    },
    "papermill": {
     "duration": 1.711955,
     "end_time": "2022-03-24T15:24:47.512419",
     "exception": false,
     "start_time": "2022-03-24T15:24:45.800464",
     "status": "completed"
    },
    "tags": []
   },
   "outputs": [
    {
     "name": "stdout",
     "output_type": "stream",
     "text": [
      "Imported successfully\n"
     ]
    }
   ],
   "source": [
    "%matplotlib inline\n",
    "import numpy as np\n",
    "import pandas as pd\n",
    "import seaborn as sns\n",
    "import matplotlib.pyplot as plt\n",
    "from sklearn.tree import DecisionTreeRegressor \n",
    "from sklearn.model_selection import train_test_split\n",
    "from sklearn.metrics import mean_absolute_error\n",
    "print(\"Imported successfully\")"
   ]
  },
  {
   "cell_type": "markdown",
   "id": "75c7ad1b",
   "metadata": {
    "papermill": {
     "duration": 0.035002,
     "end_time": "2022-03-24T15:24:47.583162",
     "exception": false,
     "start_time": "2022-03-24T15:24:47.548160",
     "status": "completed"
    },
    "tags": []
   },
   "source": [
    "# Input data"
   ]
  },
  {
   "cell_type": "code",
   "execution_count": 3,
   "id": "8b7e17e1",
   "metadata": {
    "execution": {
     "iopub.execute_input": "2022-03-24T15:24:47.658528Z",
     "iopub.status.busy": "2022-03-24T15:24:47.657982Z",
     "iopub.status.idle": "2022-03-24T15:24:47.743673Z",
     "shell.execute_reply": "2022-03-24T15:24:47.743273Z",
     "shell.execute_reply.started": "2022-03-24T15:07:28.382537Z"
    },
    "papermill": {
     "duration": 0.124967,
     "end_time": "2022-03-24T15:24:47.743792",
     "exception": false,
     "start_time": "2022-03-24T15:24:47.618825",
     "status": "completed"
    },
    "tags": []
   },
   "outputs": [
    {
     "data": {
      "text/html": [
       "<div>\n",
       "<style scoped>\n",
       "    .dataframe tbody tr th:only-of-type {\n",
       "        vertical-align: middle;\n",
       "    }\n",
       "\n",
       "    .dataframe tbody tr th {\n",
       "        vertical-align: top;\n",
       "    }\n",
       "\n",
       "    .dataframe thead th {\n",
       "        text-align: right;\n",
       "    }\n",
       "</style>\n",
       "<table border=\"1\" class=\"dataframe\">\n",
       "  <thead>\n",
       "    <tr style=\"text-align: right;\">\n",
       "      <th></th>\n",
       "      <th>HomePlanet</th>\n",
       "      <th>CryoSleep</th>\n",
       "      <th>Cabin</th>\n",
       "      <th>Destination</th>\n",
       "      <th>Age</th>\n",
       "      <th>VIP</th>\n",
       "      <th>RoomService</th>\n",
       "      <th>FoodCourt</th>\n",
       "      <th>ShoppingMall</th>\n",
       "      <th>Spa</th>\n",
       "      <th>VRDeck</th>\n",
       "      <th>Name</th>\n",
       "      <th>Transported</th>\n",
       "    </tr>\n",
       "    <tr>\n",
       "      <th>PassengerId</th>\n",
       "      <th></th>\n",
       "      <th></th>\n",
       "      <th></th>\n",
       "      <th></th>\n",
       "      <th></th>\n",
       "      <th></th>\n",
       "      <th></th>\n",
       "      <th></th>\n",
       "      <th></th>\n",
       "      <th></th>\n",
       "      <th></th>\n",
       "      <th></th>\n",
       "      <th></th>\n",
       "    </tr>\n",
       "  </thead>\n",
       "  <tbody>\n",
       "    <tr>\n",
       "      <th>0001_01</th>\n",
       "      <td>Europa</td>\n",
       "      <td>False</td>\n",
       "      <td>B/0/P</td>\n",
       "      <td>TRAPPIST-1e</td>\n",
       "      <td>39.0</td>\n",
       "      <td>False</td>\n",
       "      <td>0.0</td>\n",
       "      <td>0.0</td>\n",
       "      <td>0.0</td>\n",
       "      <td>0.0</td>\n",
       "      <td>0.0</td>\n",
       "      <td>Maham Ofracculy</td>\n",
       "      <td>False</td>\n",
       "    </tr>\n",
       "    <tr>\n",
       "      <th>0002_01</th>\n",
       "      <td>Earth</td>\n",
       "      <td>False</td>\n",
       "      <td>F/0/S</td>\n",
       "      <td>TRAPPIST-1e</td>\n",
       "      <td>24.0</td>\n",
       "      <td>False</td>\n",
       "      <td>109.0</td>\n",
       "      <td>9.0</td>\n",
       "      <td>25.0</td>\n",
       "      <td>549.0</td>\n",
       "      <td>44.0</td>\n",
       "      <td>Juanna Vines</td>\n",
       "      <td>True</td>\n",
       "    </tr>\n",
       "    <tr>\n",
       "      <th>0003_01</th>\n",
       "      <td>Europa</td>\n",
       "      <td>False</td>\n",
       "      <td>A/0/S</td>\n",
       "      <td>TRAPPIST-1e</td>\n",
       "      <td>58.0</td>\n",
       "      <td>True</td>\n",
       "      <td>43.0</td>\n",
       "      <td>3576.0</td>\n",
       "      <td>0.0</td>\n",
       "      <td>6715.0</td>\n",
       "      <td>49.0</td>\n",
       "      <td>Altark Susent</td>\n",
       "      <td>False</td>\n",
       "    </tr>\n",
       "    <tr>\n",
       "      <th>0003_02</th>\n",
       "      <td>Europa</td>\n",
       "      <td>False</td>\n",
       "      <td>A/0/S</td>\n",
       "      <td>TRAPPIST-1e</td>\n",
       "      <td>33.0</td>\n",
       "      <td>False</td>\n",
       "      <td>0.0</td>\n",
       "      <td>1283.0</td>\n",
       "      <td>371.0</td>\n",
       "      <td>3329.0</td>\n",
       "      <td>193.0</td>\n",
       "      <td>Solam Susent</td>\n",
       "      <td>False</td>\n",
       "    </tr>\n",
       "    <tr>\n",
       "      <th>0004_01</th>\n",
       "      <td>Earth</td>\n",
       "      <td>False</td>\n",
       "      <td>F/1/S</td>\n",
       "      <td>TRAPPIST-1e</td>\n",
       "      <td>16.0</td>\n",
       "      <td>False</td>\n",
       "      <td>303.0</td>\n",
       "      <td>70.0</td>\n",
       "      <td>151.0</td>\n",
       "      <td>565.0</td>\n",
       "      <td>2.0</td>\n",
       "      <td>Willy Santantines</td>\n",
       "      <td>True</td>\n",
       "    </tr>\n",
       "  </tbody>\n",
       "</table>\n",
       "</div>"
      ],
      "text/plain": [
       "            HomePlanet CryoSleep  Cabin  Destination   Age    VIP  \\\n",
       "PassengerId                                                         \n",
       "0001_01         Europa     False  B/0/P  TRAPPIST-1e  39.0  False   \n",
       "0002_01          Earth     False  F/0/S  TRAPPIST-1e  24.0  False   \n",
       "0003_01         Europa     False  A/0/S  TRAPPIST-1e  58.0   True   \n",
       "0003_02         Europa     False  A/0/S  TRAPPIST-1e  33.0  False   \n",
       "0004_01          Earth     False  F/1/S  TRAPPIST-1e  16.0  False   \n",
       "\n",
       "             RoomService  FoodCourt  ShoppingMall     Spa  VRDeck  \\\n",
       "PassengerId                                                         \n",
       "0001_01              0.0        0.0           0.0     0.0     0.0   \n",
       "0002_01            109.0        9.0          25.0   549.0    44.0   \n",
       "0003_01             43.0     3576.0           0.0  6715.0    49.0   \n",
       "0003_02              0.0     1283.0         371.0  3329.0   193.0   \n",
       "0004_01            303.0       70.0         151.0   565.0     2.0   \n",
       "\n",
       "                          Name  Transported  \n",
       "PassengerId                                  \n",
       "0001_01        Maham Ofracculy        False  \n",
       "0002_01           Juanna Vines         True  \n",
       "0003_01          Altark Susent        False  \n",
       "0003_02           Solam Susent        False  \n",
       "0004_01      Willy Santantines         True  "
      ]
     },
     "execution_count": 3,
     "metadata": {},
     "output_type": "execute_result"
    }
   ],
   "source": [
    "df_train = pd.read_csv(\"/kaggle/input/spaceship-titanic/train.csv\", index_col = 0)\n",
    "df_train.head()\n"
   ]
  },
  {
   "cell_type": "code",
   "execution_count": 4,
   "id": "9597aa72",
   "metadata": {
    "execution": {
     "iopub.execute_input": "2022-03-24T15:24:47.824202Z",
     "iopub.status.busy": "2022-03-24T15:24:47.823568Z",
     "iopub.status.idle": "2022-03-24T15:24:47.870019Z",
     "shell.execute_reply": "2022-03-24T15:24:47.869412Z",
     "shell.execute_reply.started": "2022-03-24T15:07:28.474588Z"
    },
    "papermill": {
     "duration": 0.088519,
     "end_time": "2022-03-24T15:24:47.870160",
     "exception": false,
     "start_time": "2022-03-24T15:24:47.781641",
     "status": "completed"
    },
    "tags": []
   },
   "outputs": [
    {
     "data": {
      "text/html": [
       "<div>\n",
       "<style scoped>\n",
       "    .dataframe tbody tr th:only-of-type {\n",
       "        vertical-align: middle;\n",
       "    }\n",
       "\n",
       "    .dataframe tbody tr th {\n",
       "        vertical-align: top;\n",
       "    }\n",
       "\n",
       "    .dataframe thead th {\n",
       "        text-align: right;\n",
       "    }\n",
       "</style>\n",
       "<table border=\"1\" class=\"dataframe\">\n",
       "  <thead>\n",
       "    <tr style=\"text-align: right;\">\n",
       "      <th></th>\n",
       "      <th>HomePlanet</th>\n",
       "      <th>CryoSleep</th>\n",
       "      <th>Cabin</th>\n",
       "      <th>Destination</th>\n",
       "      <th>Age</th>\n",
       "      <th>VIP</th>\n",
       "      <th>RoomService</th>\n",
       "      <th>FoodCourt</th>\n",
       "      <th>ShoppingMall</th>\n",
       "      <th>Spa</th>\n",
       "      <th>VRDeck</th>\n",
       "      <th>Name</th>\n",
       "    </tr>\n",
       "    <tr>\n",
       "      <th>PassengerId</th>\n",
       "      <th></th>\n",
       "      <th></th>\n",
       "      <th></th>\n",
       "      <th></th>\n",
       "      <th></th>\n",
       "      <th></th>\n",
       "      <th></th>\n",
       "      <th></th>\n",
       "      <th></th>\n",
       "      <th></th>\n",
       "      <th></th>\n",
       "      <th></th>\n",
       "    </tr>\n",
       "  </thead>\n",
       "  <tbody>\n",
       "    <tr>\n",
       "      <th>0013_01</th>\n",
       "      <td>Earth</td>\n",
       "      <td>True</td>\n",
       "      <td>G/3/S</td>\n",
       "      <td>TRAPPIST-1e</td>\n",
       "      <td>27.0</td>\n",
       "      <td>False</td>\n",
       "      <td>0.0</td>\n",
       "      <td>0.0</td>\n",
       "      <td>0.0</td>\n",
       "      <td>0.0</td>\n",
       "      <td>0.0</td>\n",
       "      <td>Nelly Carsoning</td>\n",
       "    </tr>\n",
       "    <tr>\n",
       "      <th>0018_01</th>\n",
       "      <td>Earth</td>\n",
       "      <td>False</td>\n",
       "      <td>F/4/S</td>\n",
       "      <td>TRAPPIST-1e</td>\n",
       "      <td>19.0</td>\n",
       "      <td>False</td>\n",
       "      <td>0.0</td>\n",
       "      <td>9.0</td>\n",
       "      <td>0.0</td>\n",
       "      <td>2823.0</td>\n",
       "      <td>0.0</td>\n",
       "      <td>Lerome Peckers</td>\n",
       "    </tr>\n",
       "    <tr>\n",
       "      <th>0019_01</th>\n",
       "      <td>Europa</td>\n",
       "      <td>True</td>\n",
       "      <td>C/0/S</td>\n",
       "      <td>55 Cancri e</td>\n",
       "      <td>31.0</td>\n",
       "      <td>False</td>\n",
       "      <td>0.0</td>\n",
       "      <td>0.0</td>\n",
       "      <td>0.0</td>\n",
       "      <td>0.0</td>\n",
       "      <td>0.0</td>\n",
       "      <td>Sabih Unhearfus</td>\n",
       "    </tr>\n",
       "    <tr>\n",
       "      <th>0021_01</th>\n",
       "      <td>Europa</td>\n",
       "      <td>False</td>\n",
       "      <td>C/1/S</td>\n",
       "      <td>TRAPPIST-1e</td>\n",
       "      <td>38.0</td>\n",
       "      <td>False</td>\n",
       "      <td>0.0</td>\n",
       "      <td>6652.0</td>\n",
       "      <td>0.0</td>\n",
       "      <td>181.0</td>\n",
       "      <td>585.0</td>\n",
       "      <td>Meratz Caltilter</td>\n",
       "    </tr>\n",
       "    <tr>\n",
       "      <th>0023_01</th>\n",
       "      <td>Earth</td>\n",
       "      <td>False</td>\n",
       "      <td>F/5/S</td>\n",
       "      <td>TRAPPIST-1e</td>\n",
       "      <td>20.0</td>\n",
       "      <td>False</td>\n",
       "      <td>10.0</td>\n",
       "      <td>0.0</td>\n",
       "      <td>635.0</td>\n",
       "      <td>0.0</td>\n",
       "      <td>0.0</td>\n",
       "      <td>Brence Harperez</td>\n",
       "    </tr>\n",
       "  </tbody>\n",
       "</table>\n",
       "</div>"
      ],
      "text/plain": [
       "            HomePlanet CryoSleep  Cabin  Destination   Age    VIP  \\\n",
       "PassengerId                                                         \n",
       "0013_01          Earth      True  G/3/S  TRAPPIST-1e  27.0  False   \n",
       "0018_01          Earth     False  F/4/S  TRAPPIST-1e  19.0  False   \n",
       "0019_01         Europa      True  C/0/S  55 Cancri e  31.0  False   \n",
       "0021_01         Europa     False  C/1/S  TRAPPIST-1e  38.0  False   \n",
       "0023_01          Earth     False  F/5/S  TRAPPIST-1e  20.0  False   \n",
       "\n",
       "             RoomService  FoodCourt  ShoppingMall     Spa  VRDeck  \\\n",
       "PassengerId                                                         \n",
       "0013_01              0.0        0.0           0.0     0.0     0.0   \n",
       "0018_01              0.0        9.0           0.0  2823.0     0.0   \n",
       "0019_01              0.0        0.0           0.0     0.0     0.0   \n",
       "0021_01              0.0     6652.0           0.0   181.0   585.0   \n",
       "0023_01             10.0        0.0         635.0     0.0     0.0   \n",
       "\n",
       "                         Name  \n",
       "PassengerId                    \n",
       "0013_01       Nelly Carsoning  \n",
       "0018_01        Lerome Peckers  \n",
       "0019_01       Sabih Unhearfus  \n",
       "0021_01      Meratz Caltilter  \n",
       "0023_01       Brence Harperez  "
      ]
     },
     "execution_count": 4,
     "metadata": {},
     "output_type": "execute_result"
    }
   ],
   "source": [
    "df_test = pd.read_csv(\"/kaggle/input/spaceship-titanic/test.csv\", index_col = 0)\n",
    "df_test.head()\n"
   ]
  },
  {
   "cell_type": "markdown",
   "id": "4641dc1c",
   "metadata": {
    "papermill": {
     "duration": 0.038169,
     "end_time": "2022-03-24T15:24:47.946939",
     "exception": false,
     "start_time": "2022-03-24T15:24:47.908770",
     "status": "completed"
    },
    "tags": []
   },
   "source": [
    "# Explore data"
   ]
  },
  {
   "cell_type": "code",
   "execution_count": 5,
   "id": "60ad672f",
   "metadata": {
    "execution": {
     "iopub.execute_input": "2022-03-24T15:24:48.024343Z",
     "iopub.status.busy": "2022-03-24T15:24:48.023690Z",
     "iopub.status.idle": "2022-03-24T15:24:48.060250Z",
     "shell.execute_reply": "2022-03-24T15:24:48.060774Z",
     "shell.execute_reply.started": "2022-03-24T15:07:28.523709Z"
    },
    "papermill": {
     "duration": 0.076508,
     "end_time": "2022-03-24T15:24:48.060940",
     "exception": false,
     "start_time": "2022-03-24T15:24:47.984432",
     "status": "completed"
    },
    "tags": []
   },
   "outputs": [
    {
     "name": "stdout",
     "output_type": "stream",
     "text": [
      "(8693, 13)\n"
     ]
    },
    {
     "data": {
      "text/html": [
       "<div>\n",
       "<style scoped>\n",
       "    .dataframe tbody tr th:only-of-type {\n",
       "        vertical-align: middle;\n",
       "    }\n",
       "\n",
       "    .dataframe tbody tr th {\n",
       "        vertical-align: top;\n",
       "    }\n",
       "\n",
       "    .dataframe thead th {\n",
       "        text-align: right;\n",
       "    }\n",
       "</style>\n",
       "<table border=\"1\" class=\"dataframe\">\n",
       "  <thead>\n",
       "    <tr style=\"text-align: right;\">\n",
       "      <th></th>\n",
       "      <th>Age</th>\n",
       "      <th>RoomService</th>\n",
       "      <th>FoodCourt</th>\n",
       "      <th>ShoppingMall</th>\n",
       "      <th>Spa</th>\n",
       "      <th>VRDeck</th>\n",
       "    </tr>\n",
       "  </thead>\n",
       "  <tbody>\n",
       "    <tr>\n",
       "      <th>count</th>\n",
       "      <td>8514.000000</td>\n",
       "      <td>8512.000000</td>\n",
       "      <td>8510.000000</td>\n",
       "      <td>8485.000000</td>\n",
       "      <td>8510.000000</td>\n",
       "      <td>8505.000000</td>\n",
       "    </tr>\n",
       "    <tr>\n",
       "      <th>mean</th>\n",
       "      <td>28.827930</td>\n",
       "      <td>224.687617</td>\n",
       "      <td>458.077203</td>\n",
       "      <td>173.729169</td>\n",
       "      <td>311.138778</td>\n",
       "      <td>304.854791</td>\n",
       "    </tr>\n",
       "    <tr>\n",
       "      <th>std</th>\n",
       "      <td>14.489021</td>\n",
       "      <td>666.717663</td>\n",
       "      <td>1611.489240</td>\n",
       "      <td>604.696458</td>\n",
       "      <td>1136.705535</td>\n",
       "      <td>1145.717189</td>\n",
       "    </tr>\n",
       "    <tr>\n",
       "      <th>min</th>\n",
       "      <td>0.000000</td>\n",
       "      <td>0.000000</td>\n",
       "      <td>0.000000</td>\n",
       "      <td>0.000000</td>\n",
       "      <td>0.000000</td>\n",
       "      <td>0.000000</td>\n",
       "    </tr>\n",
       "    <tr>\n",
       "      <th>25%</th>\n",
       "      <td>19.000000</td>\n",
       "      <td>0.000000</td>\n",
       "      <td>0.000000</td>\n",
       "      <td>0.000000</td>\n",
       "      <td>0.000000</td>\n",
       "      <td>0.000000</td>\n",
       "    </tr>\n",
       "    <tr>\n",
       "      <th>50%</th>\n",
       "      <td>27.000000</td>\n",
       "      <td>0.000000</td>\n",
       "      <td>0.000000</td>\n",
       "      <td>0.000000</td>\n",
       "      <td>0.000000</td>\n",
       "      <td>0.000000</td>\n",
       "    </tr>\n",
       "    <tr>\n",
       "      <th>75%</th>\n",
       "      <td>38.000000</td>\n",
       "      <td>47.000000</td>\n",
       "      <td>76.000000</td>\n",
       "      <td>27.000000</td>\n",
       "      <td>59.000000</td>\n",
       "      <td>46.000000</td>\n",
       "    </tr>\n",
       "    <tr>\n",
       "      <th>max</th>\n",
       "      <td>79.000000</td>\n",
       "      <td>14327.000000</td>\n",
       "      <td>29813.000000</td>\n",
       "      <td>23492.000000</td>\n",
       "      <td>22408.000000</td>\n",
       "      <td>24133.000000</td>\n",
       "    </tr>\n",
       "  </tbody>\n",
       "</table>\n",
       "</div>"
      ],
      "text/plain": [
       "               Age   RoomService     FoodCourt  ShoppingMall           Spa  \\\n",
       "count  8514.000000   8512.000000   8510.000000   8485.000000   8510.000000   \n",
       "mean     28.827930    224.687617    458.077203    173.729169    311.138778   \n",
       "std      14.489021    666.717663   1611.489240    604.696458   1136.705535   \n",
       "min       0.000000      0.000000      0.000000      0.000000      0.000000   \n",
       "25%      19.000000      0.000000      0.000000      0.000000      0.000000   \n",
       "50%      27.000000      0.000000      0.000000      0.000000      0.000000   \n",
       "75%      38.000000     47.000000     76.000000     27.000000     59.000000   \n",
       "max      79.000000  14327.000000  29813.000000  23492.000000  22408.000000   \n",
       "\n",
       "             VRDeck  \n",
       "count   8505.000000  \n",
       "mean     304.854791  \n",
       "std     1145.717189  \n",
       "min        0.000000  \n",
       "25%        0.000000  \n",
       "50%        0.000000  \n",
       "75%       46.000000  \n",
       "max    24133.000000  "
      ]
     },
     "execution_count": 5,
     "metadata": {},
     "output_type": "execute_result"
    }
   ],
   "source": [
    "print(df_train.shape)\n",
    "df_train.describe()"
   ]
  },
  {
   "cell_type": "code",
   "execution_count": 6,
   "id": "85801e45",
   "metadata": {
    "execution": {
     "iopub.execute_input": "2022-03-24T15:24:48.181480Z",
     "iopub.status.busy": "2022-03-24T15:24:48.180700Z",
     "iopub.status.idle": "2022-03-24T15:24:48.194703Z",
     "shell.execute_reply": "2022-03-24T15:24:48.194026Z",
     "shell.execute_reply.started": "2022-03-24T15:07:28.583776Z"
    },
    "papermill": {
     "duration": 0.075602,
     "end_time": "2022-03-24T15:24:48.194843",
     "exception": false,
     "start_time": "2022-03-24T15:24:48.119241",
     "status": "completed"
    },
    "tags": []
   },
   "outputs": [
    {
     "name": "stdout",
     "output_type": "stream",
     "text": [
      "              Num_NaN_Val  %_NaN_Val\n",
      "HomePlanet            201   2.312205\n",
      "CryoSleep             217   2.496261\n",
      "Cabin                 199   2.289198\n",
      "Destination           182   2.093639\n",
      "Age                   179   2.059128\n",
      "VIP                   203   2.335212\n",
      "RoomService           181   2.082135\n",
      "FoodCourt             183   2.105142\n",
      "ShoppingMall          208   2.392730\n",
      "Spa                   183   2.105142\n",
      "VRDeck                188   2.162660\n",
      "Name                  200   2.300702\n",
      "Transported             0   0.000000\n"
     ]
    }
   ],
   "source": [
    "desc_train = pd.DataFrame({\"Num_NaN_Val\": df_train.isnull().sum(), \"%_NaN_Val\": df_train.isnull().sum()/df_train.shape[0]*100})\n",
    "print(desc_train)"
   ]
  },
  {
   "cell_type": "code",
   "execution_count": 7,
   "id": "5b1d58ea",
   "metadata": {
    "execution": {
     "iopub.execute_input": "2022-03-24T15:24:48.276860Z",
     "iopub.status.busy": "2022-03-24T15:24:48.276382Z",
     "iopub.status.idle": "2022-03-24T15:24:48.295731Z",
     "shell.execute_reply": "2022-03-24T15:24:48.296282Z",
     "shell.execute_reply.started": "2022-03-24T15:07:28.962062Z"
    },
    "papermill": {
     "duration": 0.063155,
     "end_time": "2022-03-24T15:24:48.296443",
     "exception": false,
     "start_time": "2022-03-24T15:24:48.233288",
     "status": "completed"
    },
    "tags": []
   },
   "outputs": [
    {
     "name": "stdout",
     "output_type": "stream",
     "text": [
      "(4277, 12)\n"
     ]
    },
    {
     "data": {
      "text/html": [
       "<div>\n",
       "<style scoped>\n",
       "    .dataframe tbody tr th:only-of-type {\n",
       "        vertical-align: middle;\n",
       "    }\n",
       "\n",
       "    .dataframe tbody tr th {\n",
       "        vertical-align: top;\n",
       "    }\n",
       "\n",
       "    .dataframe thead th {\n",
       "        text-align: right;\n",
       "    }\n",
       "</style>\n",
       "<table border=\"1\" class=\"dataframe\">\n",
       "  <thead>\n",
       "    <tr style=\"text-align: right;\">\n",
       "      <th></th>\n",
       "      <th>Age</th>\n",
       "      <th>RoomService</th>\n",
       "      <th>FoodCourt</th>\n",
       "      <th>ShoppingMall</th>\n",
       "      <th>Spa</th>\n",
       "      <th>VRDeck</th>\n",
       "    </tr>\n",
       "  </thead>\n",
       "  <tbody>\n",
       "    <tr>\n",
       "      <th>count</th>\n",
       "      <td>4186.000000</td>\n",
       "      <td>4195.000000</td>\n",
       "      <td>4171.000000</td>\n",
       "      <td>4179.000000</td>\n",
       "      <td>4176.000000</td>\n",
       "      <td>4197.000000</td>\n",
       "    </tr>\n",
       "    <tr>\n",
       "      <th>mean</th>\n",
       "      <td>28.658146</td>\n",
       "      <td>219.266269</td>\n",
       "      <td>439.484296</td>\n",
       "      <td>177.295525</td>\n",
       "      <td>303.052443</td>\n",
       "      <td>310.710031</td>\n",
       "    </tr>\n",
       "    <tr>\n",
       "      <th>std</th>\n",
       "      <td>14.179072</td>\n",
       "      <td>607.011289</td>\n",
       "      <td>1527.663045</td>\n",
       "      <td>560.821123</td>\n",
       "      <td>1117.186015</td>\n",
       "      <td>1246.994742</td>\n",
       "    </tr>\n",
       "    <tr>\n",
       "      <th>min</th>\n",
       "      <td>0.000000</td>\n",
       "      <td>0.000000</td>\n",
       "      <td>0.000000</td>\n",
       "      <td>0.000000</td>\n",
       "      <td>0.000000</td>\n",
       "      <td>0.000000</td>\n",
       "    </tr>\n",
       "    <tr>\n",
       "      <th>25%</th>\n",
       "      <td>19.000000</td>\n",
       "      <td>0.000000</td>\n",
       "      <td>0.000000</td>\n",
       "      <td>0.000000</td>\n",
       "      <td>0.000000</td>\n",
       "      <td>0.000000</td>\n",
       "    </tr>\n",
       "    <tr>\n",
       "      <th>50%</th>\n",
       "      <td>26.000000</td>\n",
       "      <td>0.000000</td>\n",
       "      <td>0.000000</td>\n",
       "      <td>0.000000</td>\n",
       "      <td>0.000000</td>\n",
       "      <td>0.000000</td>\n",
       "    </tr>\n",
       "    <tr>\n",
       "      <th>75%</th>\n",
       "      <td>37.000000</td>\n",
       "      <td>53.000000</td>\n",
       "      <td>78.000000</td>\n",
       "      <td>33.000000</td>\n",
       "      <td>50.000000</td>\n",
       "      <td>36.000000</td>\n",
       "    </tr>\n",
       "    <tr>\n",
       "      <th>max</th>\n",
       "      <td>79.000000</td>\n",
       "      <td>11567.000000</td>\n",
       "      <td>25273.000000</td>\n",
       "      <td>8292.000000</td>\n",
       "      <td>19844.000000</td>\n",
       "      <td>22272.000000</td>\n",
       "    </tr>\n",
       "  </tbody>\n",
       "</table>\n",
       "</div>"
      ],
      "text/plain": [
       "               Age   RoomService     FoodCourt  ShoppingMall           Spa  \\\n",
       "count  4186.000000   4195.000000   4171.000000   4179.000000   4176.000000   \n",
       "mean     28.658146    219.266269    439.484296    177.295525    303.052443   \n",
       "std      14.179072    607.011289   1527.663045    560.821123   1117.186015   \n",
       "min       0.000000      0.000000      0.000000      0.000000      0.000000   \n",
       "25%      19.000000      0.000000      0.000000      0.000000      0.000000   \n",
       "50%      26.000000      0.000000      0.000000      0.000000      0.000000   \n",
       "75%      37.000000     53.000000     78.000000     33.000000     50.000000   \n",
       "max      79.000000  11567.000000  25273.000000   8292.000000  19844.000000   \n",
       "\n",
       "             VRDeck  \n",
       "count   4197.000000  \n",
       "mean     310.710031  \n",
       "std     1246.994742  \n",
       "min        0.000000  \n",
       "25%        0.000000  \n",
       "50%        0.000000  \n",
       "75%       36.000000  \n",
       "max    22272.000000  "
      ]
     },
     "execution_count": 7,
     "metadata": {},
     "output_type": "execute_result"
    }
   ],
   "source": [
    "print(df_test.shape)\n",
    "df_test.describe()"
   ]
  },
  {
   "cell_type": "code",
   "execution_count": 8,
   "id": "5e9cbe59",
   "metadata": {
    "execution": {
     "iopub.execute_input": "2022-03-24T15:24:48.419342Z",
     "iopub.status.busy": "2022-03-24T15:24:48.418524Z",
     "iopub.status.idle": "2022-03-24T15:24:48.429689Z",
     "shell.execute_reply": "2022-03-24T15:24:48.429076Z",
     "shell.execute_reply.started": "2022-03-24T15:07:29.305128Z"
    },
    "papermill": {
     "duration": 0.073056,
     "end_time": "2022-03-24T15:24:48.429818",
     "exception": false,
     "start_time": "2022-03-24T15:24:48.356762",
     "status": "completed"
    },
    "tags": []
   },
   "outputs": [
    {
     "name": "stdout",
     "output_type": "stream",
     "text": [
      "              Num_NaN_Val  %_NaN_Val\n",
      "HomePlanet             87   2.034136\n",
      "CryoSleep              93   2.174421\n",
      "Cabin                 100   2.338087\n",
      "Destination            92   2.151040\n",
      "Age                    91   2.127660\n",
      "VIP                    93   2.174421\n",
      "RoomService            82   1.917232\n",
      "FoodCourt             106   2.478373\n",
      "ShoppingMall           98   2.291326\n",
      "Spa                   101   2.361468\n",
      "VRDeck                 80   1.870470\n",
      "Name                   94   2.197802\n"
     ]
    }
   ],
   "source": [
    "desc_test = pd.DataFrame({\"Num_NaN_Val\": df_test.isnull().sum(), \"%_NaN_Val\": df_test.isnull().sum()/df_test.shape[0]*100})\n",
    "print(desc_test)"
   ]
  },
  {
   "cell_type": "code",
   "execution_count": 9,
   "id": "eb1f0112",
   "metadata": {
    "execution": {
     "iopub.execute_input": "2022-03-24T15:24:48.551608Z",
     "iopub.status.busy": "2022-03-24T15:24:48.550789Z",
     "iopub.status.idle": "2022-03-24T15:24:48.573909Z",
     "shell.execute_reply": "2022-03-24T15:24:48.573272Z",
     "shell.execute_reply.started": "2022-03-24T15:07:29.672743Z"
    },
    "papermill": {
     "duration": 0.085248,
     "end_time": "2022-03-24T15:24:48.574047",
     "exception": false,
     "start_time": "2022-03-24T15:24:48.488799",
     "status": "completed"
    },
    "tags": []
   },
   "outputs": [
    {
     "data": {
      "text/html": [
       "<div>\n",
       "<style scoped>\n",
       "    .dataframe tbody tr th:only-of-type {\n",
       "        vertical-align: middle;\n",
       "    }\n",
       "\n",
       "    .dataframe tbody tr th {\n",
       "        vertical-align: top;\n",
       "    }\n",
       "\n",
       "    .dataframe thead th {\n",
       "        text-align: right;\n",
       "    }\n",
       "</style>\n",
       "<table border=\"1\" class=\"dataframe\">\n",
       "  <thead>\n",
       "    <tr style=\"text-align: right;\">\n",
       "      <th></th>\n",
       "      <th>Age</th>\n",
       "      <th>RoomService</th>\n",
       "      <th>FoodCourt</th>\n",
       "      <th>ShoppingMall</th>\n",
       "      <th>Spa</th>\n",
       "      <th>VRDeck</th>\n",
       "    </tr>\n",
       "    <tr>\n",
       "      <th>Transported</th>\n",
       "      <th></th>\n",
       "      <th></th>\n",
       "      <th></th>\n",
       "      <th></th>\n",
       "      <th></th>\n",
       "      <th></th>\n",
       "    </tr>\n",
       "  </thead>\n",
       "  <tbody>\n",
       "    <tr>\n",
       "      <th>False</th>\n",
       "      <td>29.922858</td>\n",
       "      <td>389.266066</td>\n",
       "      <td>382.615930</td>\n",
       "      <td>167.566217</td>\n",
       "      <td>564.382666</td>\n",
       "      <td>543.629822</td>\n",
       "    </tr>\n",
       "    <tr>\n",
       "      <th>True</th>\n",
       "      <td>27.748834</td>\n",
       "      <td>63.098021</td>\n",
       "      <td>532.691984</td>\n",
       "      <td>179.829972</td>\n",
       "      <td>61.675531</td>\n",
       "      <td>69.148131</td>\n",
       "    </tr>\n",
       "  </tbody>\n",
       "</table>\n",
       "</div>"
      ],
      "text/plain": [
       "                   Age  RoomService   FoodCourt  ShoppingMall         Spa  \\\n",
       "Transported                                                                 \n",
       "False        29.922858   389.266066  382.615930    167.566217  564.382666   \n",
       "True         27.748834    63.098021  532.691984    179.829972   61.675531   \n",
       "\n",
       "                 VRDeck  \n",
       "Transported              \n",
       "False        543.629822  \n",
       "True          69.148131  "
      ]
     },
     "execution_count": 9,
     "metadata": {},
     "output_type": "execute_result"
    }
   ],
   "source": [
    "df_train.groupby('Transported').mean()"
   ]
  },
  {
   "cell_type": "code",
   "execution_count": 10,
   "id": "e386db8a",
   "metadata": {
    "execution": {
     "iopub.execute_input": "2022-03-24T15:24:48.701707Z",
     "iopub.status.busy": "2022-03-24T15:24:48.701051Z",
     "iopub.status.idle": "2022-03-24T15:24:48.715543Z",
     "shell.execute_reply": "2022-03-24T15:24:48.716050Z",
     "shell.execute_reply.started": "2022-03-24T15:07:30.074055Z"
    },
    "papermill": {
     "duration": 0.081588,
     "end_time": "2022-03-24T15:24:48.716222",
     "exception": false,
     "start_time": "2022-03-24T15:24:48.634634",
     "status": "completed"
    },
    "tags": []
   },
   "outputs": [
    {
     "name": "stdout",
     "output_type": "stream",
     "text": [
      "<class 'pandas.core.frame.DataFrame'>\n",
      "Index: 8693 entries, 0001_01 to 9280_02\n",
      "Data columns (total 13 columns):\n",
      " #   Column        Non-Null Count  Dtype  \n",
      "---  ------        --------------  -----  \n",
      " 0   HomePlanet    8492 non-null   object \n",
      " 1   CryoSleep     8476 non-null   object \n",
      " 2   Cabin         8494 non-null   object \n",
      " 3   Destination   8511 non-null   object \n",
      " 4   Age           8514 non-null   float64\n",
      " 5   VIP           8490 non-null   object \n",
      " 6   RoomService   8512 non-null   float64\n",
      " 7   FoodCourt     8510 non-null   float64\n",
      " 8   ShoppingMall  8485 non-null   float64\n",
      " 9   Spa           8510 non-null   float64\n",
      " 10  VRDeck        8505 non-null   float64\n",
      " 11  Name          8493 non-null   object \n",
      " 12  Transported   8693 non-null   bool   \n",
      "dtypes: bool(1), float64(6), object(6)\n",
      "memory usage: 891.4+ KB\n"
     ]
    }
   ],
   "source": [
    "df_train.info()"
   ]
  },
  {
   "cell_type": "markdown",
   "id": "81ece725",
   "metadata": {
    "papermill": {
     "duration": 0.060257,
     "end_time": "2022-03-24T15:24:48.837330",
     "exception": false,
     "start_time": "2022-03-24T15:24:48.777073",
     "status": "completed"
    },
    "tags": []
   },
   "source": [
    "# Data engeniring"
   ]
  },
  {
   "cell_type": "code",
   "execution_count": 11,
   "id": "21dfd260",
   "metadata": {
    "execution": {
     "iopub.execute_input": "2022-03-24T15:24:48.964935Z",
     "iopub.status.busy": "2022-03-24T15:24:48.964151Z",
     "iopub.status.idle": "2022-03-24T15:24:48.965678Z",
     "shell.execute_reply": "2022-03-24T15:24:48.966222Z",
     "shell.execute_reply.started": "2022-03-24T15:07:30.490573Z"
    },
    "papermill": {
     "duration": 0.068095,
     "end_time": "2022-03-24T15:24:48.966399",
     "exception": false,
     "start_time": "2022-03-24T15:24:48.898304",
     "status": "completed"
    },
    "tags": []
   },
   "outputs": [],
   "source": [
    "# Удаление строк с NaN\n",
    "def droped_NaN_row(df): \n",
    "    replaced_df = df.copy(deep = True)\n",
    "    old_num_row = replaced_df.shape[0]\n",
    "    replaced_df.dropna(inplace=True)\n",
    "    dif = old_num_row - replaced_df.shape[0]\n",
    "    print(\"Droped: %.2f (%.2f)\" % (dif, dif/old_num_row*100))\n",
    "    return replaced_df"
   ]
  },
  {
   "cell_type": "code",
   "execution_count": 12,
   "id": "f8ed02bd",
   "metadata": {
    "execution": {
     "iopub.execute_input": "2022-03-24T15:24:49.092986Z",
     "iopub.status.busy": "2022-03-24T15:24:49.092424Z",
     "iopub.status.idle": "2022-03-24T15:24:49.096939Z",
     "shell.execute_reply": "2022-03-24T15:24:49.097396Z",
     "shell.execute_reply.started": "2022-03-24T15:07:30.849538Z"
    },
    "papermill": {
     "duration": 0.069641,
     "end_time": "2022-03-24T15:24:49.097550",
     "exception": false,
     "start_time": "2022-03-24T15:24:49.027909",
     "status": "completed"
    },
    "tags": []
   },
   "outputs": [],
   "source": [
    "# Замена численных значений средними по колонке\n",
    "def replace_train(df):\n",
    "    replaced_df = df.copy(deep = True)\n",
    "\n",
    "    for col in replaced_df.describe().columns:\n",
    "        median = replaced_df[col].median()\n",
    "        replaced_df[col].fillna(median, inplace=True)\n",
    "        \n",
    "    return replaced_df"
   ]
  },
  {
   "cell_type": "code",
   "execution_count": 13,
   "id": "bdbcbf07",
   "metadata": {
    "execution": {
     "iopub.execute_input": "2022-03-24T15:24:49.183429Z",
     "iopub.status.busy": "2022-03-24T15:24:49.182803Z",
     "iopub.status.idle": "2022-03-24T15:24:49.186802Z",
     "shell.execute_reply": "2022-03-24T15:24:49.186057Z",
     "shell.execute_reply.started": "2022-03-24T15:07:31.208843Z"
    },
    "papermill": {
     "duration": 0.048863,
     "end_time": "2022-03-24T15:24:49.186935",
     "exception": false,
     "start_time": "2022-03-24T15:24:49.138072",
     "status": "completed"
    },
    "tags": []
   },
   "outputs": [],
   "source": [
    "bool_feature_names = ['CryoSleep', 'VIP', 'Transported']"
   ]
  },
  {
   "cell_type": "code",
   "execution_count": 14,
   "id": "49937c76",
   "metadata": {
    "execution": {
     "iopub.execute_input": "2022-03-24T15:24:49.285576Z",
     "iopub.status.busy": "2022-03-24T15:24:49.276466Z",
     "iopub.status.idle": "2022-03-24T15:24:49.307407Z",
     "shell.execute_reply": "2022-03-24T15:24:49.307888Z",
     "shell.execute_reply.started": "2022-03-24T15:07:31.604125Z"
    },
    "papermill": {
     "duration": 0.078514,
     "end_time": "2022-03-24T15:24:49.308055",
     "exception": false,
     "start_time": "2022-03-24T15:24:49.229541",
     "status": "completed"
    },
    "tags": []
   },
   "outputs": [
    {
     "data": {
      "text/html": [
       "<div>\n",
       "<style scoped>\n",
       "    .dataframe tbody tr th:only-of-type {\n",
       "        vertical-align: middle;\n",
       "    }\n",
       "\n",
       "    .dataframe tbody tr th {\n",
       "        vertical-align: top;\n",
       "    }\n",
       "\n",
       "    .dataframe thead th {\n",
       "        text-align: right;\n",
       "    }\n",
       "</style>\n",
       "<table border=\"1\" class=\"dataframe\">\n",
       "  <thead>\n",
       "    <tr style=\"text-align: right;\">\n",
       "      <th></th>\n",
       "      <th>HomePlanet</th>\n",
       "      <th>CryoSleep</th>\n",
       "      <th>Cabin</th>\n",
       "      <th>Destination</th>\n",
       "      <th>Age</th>\n",
       "      <th>VIP</th>\n",
       "      <th>RoomService</th>\n",
       "      <th>FoodCourt</th>\n",
       "      <th>ShoppingMall</th>\n",
       "      <th>Spa</th>\n",
       "      <th>VRDeck</th>\n",
       "      <th>Name</th>\n",
       "      <th>Transported</th>\n",
       "    </tr>\n",
       "    <tr>\n",
       "      <th>PassengerId</th>\n",
       "      <th></th>\n",
       "      <th></th>\n",
       "      <th></th>\n",
       "      <th></th>\n",
       "      <th></th>\n",
       "      <th></th>\n",
       "      <th></th>\n",
       "      <th></th>\n",
       "      <th></th>\n",
       "      <th></th>\n",
       "      <th></th>\n",
       "      <th></th>\n",
       "      <th></th>\n",
       "    </tr>\n",
       "  </thead>\n",
       "  <tbody>\n",
       "    <tr>\n",
       "      <th>0006_02</th>\n",
       "      <td>Earth</td>\n",
       "      <td>True</td>\n",
       "      <td>G/0/S</td>\n",
       "      <td>TRAPPIST-1e</td>\n",
       "      <td>28.0</td>\n",
       "      <td>False</td>\n",
       "      <td>0.0</td>\n",
       "      <td>0.0</td>\n",
       "      <td>0.0</td>\n",
       "      <td>0.0</td>\n",
       "      <td>NaN</td>\n",
       "      <td>Candra Jacostaffey</td>\n",
       "      <td>True</td>\n",
       "    </tr>\n",
       "    <tr>\n",
       "      <th>0008_02</th>\n",
       "      <td>Europa</td>\n",
       "      <td>True</td>\n",
       "      <td>B/1/P</td>\n",
       "      <td>TRAPPIST-1e</td>\n",
       "      <td>34.0</td>\n",
       "      <td>False</td>\n",
       "      <td>0.0</td>\n",
       "      <td>0.0</td>\n",
       "      <td>NaN</td>\n",
       "      <td>0.0</td>\n",
       "      <td>0.0</td>\n",
       "      <td>Altardr Flatic</td>\n",
       "      <td>True</td>\n",
       "    </tr>\n",
       "    <tr>\n",
       "      <th>0012_01</th>\n",
       "      <td>Earth</td>\n",
       "      <td>False</td>\n",
       "      <td>NaN</td>\n",
       "      <td>TRAPPIST-1e</td>\n",
       "      <td>31.0</td>\n",
       "      <td>False</td>\n",
       "      <td>32.0</td>\n",
       "      <td>0.0</td>\n",
       "      <td>876.0</td>\n",
       "      <td>0.0</td>\n",
       "      <td>0.0</td>\n",
       "      <td>Justie Pooles</td>\n",
       "      <td>False</td>\n",
       "    </tr>\n",
       "    <tr>\n",
       "      <th>0014_01</th>\n",
       "      <td>Mars</td>\n",
       "      <td>False</td>\n",
       "      <td>F/3/P</td>\n",
       "      <td>55 Cancri e</td>\n",
       "      <td>27.0</td>\n",
       "      <td>False</td>\n",
       "      <td>1286.0</td>\n",
       "      <td>122.0</td>\n",
       "      <td>NaN</td>\n",
       "      <td>0.0</td>\n",
       "      <td>0.0</td>\n",
       "      <td>Flats Eccle</td>\n",
       "      <td>False</td>\n",
       "    </tr>\n",
       "    <tr>\n",
       "      <th>0020_03</th>\n",
       "      <td>Earth</td>\n",
       "      <td>True</td>\n",
       "      <td>E/0/S</td>\n",
       "      <td>55 Cancri e</td>\n",
       "      <td>29.0</td>\n",
       "      <td>False</td>\n",
       "      <td>0.0</td>\n",
       "      <td>0.0</td>\n",
       "      <td>NaN</td>\n",
       "      <td>0.0</td>\n",
       "      <td>0.0</td>\n",
       "      <td>Mollen Mcfaddennon</td>\n",
       "      <td>False</td>\n",
       "    </tr>\n",
       "    <tr>\n",
       "      <th>...</th>\n",
       "      <td>...</td>\n",
       "      <td>...</td>\n",
       "      <td>...</td>\n",
       "      <td>...</td>\n",
       "      <td>...</td>\n",
       "      <td>...</td>\n",
       "      <td>...</td>\n",
       "      <td>...</td>\n",
       "      <td>...</td>\n",
       "      <td>...</td>\n",
       "      <td>...</td>\n",
       "      <td>...</td>\n",
       "      <td>...</td>\n",
       "    </tr>\n",
       "    <tr>\n",
       "      <th>9250_01</th>\n",
       "      <td>Europa</td>\n",
       "      <td>False</td>\n",
       "      <td>E/597/P</td>\n",
       "      <td>TRAPPIST-1e</td>\n",
       "      <td>29.0</td>\n",
       "      <td>False</td>\n",
       "      <td>0.0</td>\n",
       "      <td>2972.0</td>\n",
       "      <td>NaN</td>\n",
       "      <td>28.0</td>\n",
       "      <td>188.0</td>\n",
       "      <td>Chain Reedectied</td>\n",
       "      <td>True</td>\n",
       "    </tr>\n",
       "    <tr>\n",
       "      <th>9257_01</th>\n",
       "      <td>NaN</td>\n",
       "      <td>False</td>\n",
       "      <td>F/1892/P</td>\n",
       "      <td>TRAPPIST-1e</td>\n",
       "      <td>13.0</td>\n",
       "      <td>False</td>\n",
       "      <td>39.0</td>\n",
       "      <td>0.0</td>\n",
       "      <td>1085.0</td>\n",
       "      <td>24.0</td>\n",
       "      <td>0.0</td>\n",
       "      <td>Ties Apple</td>\n",
       "      <td>False</td>\n",
       "    </tr>\n",
       "    <tr>\n",
       "      <th>9259_01</th>\n",
       "      <td>Earth</td>\n",
       "      <td>NaN</td>\n",
       "      <td>F/1893/P</td>\n",
       "      <td>TRAPPIST-1e</td>\n",
       "      <td>44.0</td>\n",
       "      <td>False</td>\n",
       "      <td>1030.0</td>\n",
       "      <td>1015.0</td>\n",
       "      <td>0.0</td>\n",
       "      <td>11.0</td>\n",
       "      <td>NaN</td>\n",
       "      <td>Annah Gilleyons</td>\n",
       "      <td>True</td>\n",
       "    </tr>\n",
       "    <tr>\n",
       "      <th>9274_01</th>\n",
       "      <td>NaN</td>\n",
       "      <td>True</td>\n",
       "      <td>G/1508/P</td>\n",
       "      <td>TRAPPIST-1e</td>\n",
       "      <td>23.0</td>\n",
       "      <td>False</td>\n",
       "      <td>0.0</td>\n",
       "      <td>0.0</td>\n",
       "      <td>0.0</td>\n",
       "      <td>0.0</td>\n",
       "      <td>0.0</td>\n",
       "      <td>Chelsa Bullisey</td>\n",
       "      <td>True</td>\n",
       "    </tr>\n",
       "    <tr>\n",
       "      <th>9275_03</th>\n",
       "      <td>Europa</td>\n",
       "      <td>NaN</td>\n",
       "      <td>A/97/P</td>\n",
       "      <td>TRAPPIST-1e</td>\n",
       "      <td>30.0</td>\n",
       "      <td>False</td>\n",
       "      <td>0.0</td>\n",
       "      <td>3208.0</td>\n",
       "      <td>0.0</td>\n",
       "      <td>2.0</td>\n",
       "      <td>330.0</td>\n",
       "      <td>Atlasym Conable</td>\n",
       "      <td>True</td>\n",
       "    </tr>\n",
       "  </tbody>\n",
       "</table>\n",
       "<p>2087 rows × 13 columns</p>\n",
       "</div>"
      ],
      "text/plain": [
       "            HomePlanet CryoSleep     Cabin  Destination   Age    VIP  \\\n",
       "PassengerId                                                            \n",
       "0006_02          Earth      True     G/0/S  TRAPPIST-1e  28.0  False   \n",
       "0008_02         Europa      True     B/1/P  TRAPPIST-1e  34.0  False   \n",
       "0012_01          Earth     False       NaN  TRAPPIST-1e  31.0  False   \n",
       "0014_01           Mars     False     F/3/P  55 Cancri e  27.0  False   \n",
       "0020_03          Earth      True     E/0/S  55 Cancri e  29.0  False   \n",
       "...                ...       ...       ...          ...   ...    ...   \n",
       "9250_01         Europa     False   E/597/P  TRAPPIST-1e  29.0  False   \n",
       "9257_01            NaN     False  F/1892/P  TRAPPIST-1e  13.0  False   \n",
       "9259_01          Earth       NaN  F/1893/P  TRAPPIST-1e  44.0  False   \n",
       "9274_01            NaN      True  G/1508/P  TRAPPIST-1e  23.0  False   \n",
       "9275_03         Europa       NaN    A/97/P  TRAPPIST-1e  30.0  False   \n",
       "\n",
       "             RoomService  FoodCourt  ShoppingMall   Spa  VRDeck  \\\n",
       "PassengerId                                                       \n",
       "0006_02              0.0        0.0           0.0   0.0     NaN   \n",
       "0008_02              0.0        0.0           NaN   0.0     0.0   \n",
       "0012_01             32.0        0.0         876.0   0.0     0.0   \n",
       "0014_01           1286.0      122.0           NaN   0.0     0.0   \n",
       "0020_03              0.0        0.0           NaN   0.0     0.0   \n",
       "...                  ...        ...           ...   ...     ...   \n",
       "9250_01              0.0     2972.0           NaN  28.0   188.0   \n",
       "9257_01             39.0        0.0        1085.0  24.0     0.0   \n",
       "9259_01           1030.0     1015.0           0.0  11.0     NaN   \n",
       "9274_01              0.0        0.0           0.0   0.0     0.0   \n",
       "9275_03              0.0     3208.0           0.0   2.0   330.0   \n",
       "\n",
       "                           Name  Transported  \n",
       "PassengerId                                   \n",
       "0006_02      Candra Jacostaffey         True  \n",
       "0008_02          Altardr Flatic         True  \n",
       "0012_01           Justie Pooles        False  \n",
       "0014_01             Flats Eccle        False  \n",
       "0020_03      Mollen Mcfaddennon        False  \n",
       "...                         ...          ...  \n",
       "9250_01        Chain Reedectied         True  \n",
       "9257_01              Ties Apple        False  \n",
       "9259_01         Annah Gilleyons         True  \n",
       "9274_01         Chelsa Bullisey         True  \n",
       "9275_03         Atlasym Conable         True  \n",
       "\n",
       "[2087 rows x 13 columns]"
      ]
     },
     "execution_count": 14,
     "metadata": {},
     "output_type": "execute_result"
    }
   ],
   "source": [
    "df_train[df_train.isnull().any(1)]"
   ]
  },
  {
   "cell_type": "markdown",
   "id": "0fd9ed8b",
   "metadata": {
    "papermill": {
     "duration": 0.061279,
     "end_time": "2022-03-24T15:24:49.431353",
     "exception": false,
     "start_time": "2022-03-24T15:24:49.370074",
     "status": "completed"
    },
    "tags": []
   },
   "source": [
    "**Очевидно,что если человек находится в крисне во время полета, то он не оплачивает никаких дополнительных услуг! И наоборот, если человек оплатил доп услуги, то он не находится в криосне!**"
   ]
  },
  {
   "cell_type": "code",
   "execution_count": 15,
   "id": "c8864582",
   "metadata": {
    "execution": {
     "iopub.execute_input": "2022-03-24T15:24:49.558299Z",
     "iopub.status.busy": "2022-03-24T15:24:49.557780Z",
     "iopub.status.idle": "2022-03-24T15:24:49.570792Z",
     "shell.execute_reply": "2022-03-24T15:24:49.571200Z",
     "shell.execute_reply.started": "2022-03-24T15:07:32.122271Z"
    },
    "papermill": {
     "duration": 0.078415,
     "end_time": "2022-03-24T15:24:49.571365",
     "exception": false,
     "start_time": "2022-03-24T15:24:49.492950",
     "status": "completed"
    },
    "tags": []
   },
   "outputs": [],
   "source": [
    "df_train.loc[(df_train.CryoSleep == True), ('RoomService', 'FoodCourt', 'ShoppingMall', 'Spa', 'VRDeck')] = 0.0\n",
    "df_train.loc[(df_train.CryoSleep == True), ('VIP')] = False"
   ]
  },
  {
   "cell_type": "code",
   "execution_count": 16,
   "id": "bd7138f7",
   "metadata": {
    "execution": {
     "iopub.execute_input": "2022-03-24T15:24:49.657248Z",
     "iopub.status.busy": "2022-03-24T15:24:49.656628Z",
     "iopub.status.idle": "2022-03-24T15:24:49.661150Z",
     "shell.execute_reply": "2022-03-24T15:24:49.661538Z",
     "shell.execute_reply.started": "2022-03-24T15:07:32.603492Z"
    },
    "papermill": {
     "duration": 0.04906,
     "end_time": "2022-03-24T15:24:49.661668",
     "exception": false,
     "start_time": "2022-03-24T15:24:49.612608",
     "status": "completed"
    },
    "tags": []
   },
   "outputs": [
    {
     "data": {
      "text/plain": [
       "False    5439\n",
       "True     3037\n",
       "Name: CryoSleep, dtype: int64"
      ]
     },
     "execution_count": 16,
     "metadata": {},
     "output_type": "execute_result"
    }
   ],
   "source": [
    "df_train['CryoSleep'].value_counts()"
   ]
  },
  {
   "cell_type": "code",
   "execution_count": 17,
   "id": "7e8b1de3",
   "metadata": {
    "execution": {
     "iopub.execute_input": "2022-03-24T15:24:49.746860Z",
     "iopub.status.busy": "2022-03-24T15:24:49.746374Z",
     "iopub.status.idle": "2022-03-24T15:24:49.757732Z",
     "shell.execute_reply": "2022-03-24T15:24:49.758140Z",
     "shell.execute_reply.started": "2022-03-24T15:07:33.713475Z"
    },
    "papermill": {
     "duration": 0.055748,
     "end_time": "2022-03-24T15:24:49.758277",
     "exception": false,
     "start_time": "2022-03-24T15:24:49.702529",
     "status": "completed"
    },
    "tags": []
   },
   "outputs": [
    {
     "data": {
      "text/html": [
       "<div>\n",
       "<style scoped>\n",
       "    .dataframe tbody tr th:only-of-type {\n",
       "        vertical-align: middle;\n",
       "    }\n",
       "\n",
       "    .dataframe tbody tr th {\n",
       "        vertical-align: top;\n",
       "    }\n",
       "\n",
       "    .dataframe thead th {\n",
       "        text-align: right;\n",
       "    }\n",
       "</style>\n",
       "<table border=\"1\" class=\"dataframe\">\n",
       "  <thead>\n",
       "    <tr style=\"text-align: right;\">\n",
       "      <th></th>\n",
       "      <th>Age</th>\n",
       "      <th>RoomService</th>\n",
       "      <th>FoodCourt</th>\n",
       "      <th>ShoppingMall</th>\n",
       "      <th>Spa</th>\n",
       "      <th>VRDeck</th>\n",
       "      <th>Transported</th>\n",
       "    </tr>\n",
       "  </thead>\n",
       "  <tbody>\n",
       "    <tr>\n",
       "      <th>Age</th>\n",
       "      <td>1.000000</td>\n",
       "      <td>0.069110</td>\n",
       "      <td>0.129694</td>\n",
       "      <td>0.033169</td>\n",
       "      <td>0.123685</td>\n",
       "      <td>0.100926</td>\n",
       "      <td>-0.075026</td>\n",
       "    </tr>\n",
       "    <tr>\n",
       "      <th>RoomService</th>\n",
       "      <td>0.069110</td>\n",
       "      <td>1.000000</td>\n",
       "      <td>-0.014295</td>\n",
       "      <td>0.056238</td>\n",
       "      <td>0.011483</td>\n",
       "      <td>-0.018171</td>\n",
       "      <td>-0.244925</td>\n",
       "    </tr>\n",
       "    <tr>\n",
       "      <th>FoodCourt</th>\n",
       "      <td>0.129694</td>\n",
       "      <td>-0.014295</td>\n",
       "      <td>1.000000</td>\n",
       "      <td>-0.012615</td>\n",
       "      <td>0.222834</td>\n",
       "      <td>0.228902</td>\n",
       "      <td>0.044595</td>\n",
       "    </tr>\n",
       "    <tr>\n",
       "      <th>ShoppingMall</th>\n",
       "      <td>0.033169</td>\n",
       "      <td>0.056238</td>\n",
       "      <td>-0.012615</td>\n",
       "      <td>1.000000</td>\n",
       "      <td>0.015357</td>\n",
       "      <td>-0.005958</td>\n",
       "      <td>0.007966</td>\n",
       "    </tr>\n",
       "    <tr>\n",
       "      <th>Spa</th>\n",
       "      <td>0.123685</td>\n",
       "      <td>0.011483</td>\n",
       "      <td>0.222834</td>\n",
       "      <td>0.015357</td>\n",
       "      <td>1.000000</td>\n",
       "      <td>0.154754</td>\n",
       "      <td>-0.221592</td>\n",
       "    </tr>\n",
       "    <tr>\n",
       "      <th>VRDeck</th>\n",
       "      <td>0.100926</td>\n",
       "      <td>-0.018171</td>\n",
       "      <td>0.228902</td>\n",
       "      <td>-0.005958</td>\n",
       "      <td>0.154754</td>\n",
       "      <td>1.000000</td>\n",
       "      <td>-0.207630</td>\n",
       "    </tr>\n",
       "    <tr>\n",
       "      <th>Transported</th>\n",
       "      <td>-0.075026</td>\n",
       "      <td>-0.244925</td>\n",
       "      <td>0.044595</td>\n",
       "      <td>0.007966</td>\n",
       "      <td>-0.221592</td>\n",
       "      <td>-0.207630</td>\n",
       "      <td>1.000000</td>\n",
       "    </tr>\n",
       "  </tbody>\n",
       "</table>\n",
       "</div>"
      ],
      "text/plain": [
       "                   Age  RoomService  FoodCourt  ShoppingMall       Spa  \\\n",
       "Age           1.000000     0.069110   0.129694      0.033169  0.123685   \n",
       "RoomService   0.069110     1.000000  -0.014295      0.056238  0.011483   \n",
       "FoodCourt     0.129694    -0.014295   1.000000     -0.012615  0.222834   \n",
       "ShoppingMall  0.033169     0.056238  -0.012615      1.000000  0.015357   \n",
       "Spa           0.123685     0.011483   0.222834      0.015357  1.000000   \n",
       "VRDeck        0.100926    -0.018171   0.228902     -0.005958  0.154754   \n",
       "Transported  -0.075026    -0.244925   0.044595      0.007966 -0.221592   \n",
       "\n",
       "                VRDeck  Transported  \n",
       "Age           0.100926    -0.075026  \n",
       "RoomService  -0.018171    -0.244925  \n",
       "FoodCourt     0.228902     0.044595  \n",
       "ShoppingMall -0.005958     0.007966  \n",
       "Spa           0.154754    -0.221592  \n",
       "VRDeck        1.000000    -0.207630  \n",
       "Transported  -0.207630     1.000000  "
      ]
     },
     "execution_count": 17,
     "metadata": {},
     "output_type": "execute_result"
    }
   ],
   "source": [
    "df_train.corr()"
   ]
  },
  {
   "cell_type": "code",
   "execution_count": 18,
   "id": "c4f227e0",
   "metadata": {
    "execution": {
     "iopub.execute_input": "2022-03-24T15:24:49.845832Z",
     "iopub.status.busy": "2022-03-24T15:24:49.845342Z",
     "iopub.status.idle": "2022-03-24T15:24:49.851219Z",
     "shell.execute_reply": "2022-03-24T15:24:49.851574Z",
     "shell.execute_reply.started": "2022-03-24T15:07:34.681913Z"
    },
    "papermill": {
     "duration": 0.050694,
     "end_time": "2022-03-24T15:24:49.851706",
     "exception": false,
     "start_time": "2022-03-24T15:24:49.801012",
     "status": "completed"
    },
    "tags": []
   },
   "outputs": [
    {
     "data": {
      "text/plain": [
       "HomePlanet\n",
       "Earth     4602\n",
       "Europa    2131\n",
       "Mars      1759\n",
       "Name: Transported, dtype: int64"
      ]
     },
     "execution_count": 18,
     "metadata": {},
     "output_type": "execute_result"
    }
   ],
   "source": [
    "df_train.groupby('HomePlanet').Transported.count()"
   ]
  },
  {
   "cell_type": "code",
   "execution_count": 19,
   "id": "51302bb7",
   "metadata": {
    "execution": {
     "iopub.execute_input": "2022-03-24T15:24:49.942200Z",
     "iopub.status.busy": "2022-03-24T15:24:49.941676Z",
     "iopub.status.idle": "2022-03-24T15:24:49.948600Z",
     "shell.execute_reply": "2022-03-24T15:24:49.948971Z",
     "shell.execute_reply.started": "2022-03-24T15:07:35.193184Z"
    },
    "papermill": {
     "duration": 0.054748,
     "end_time": "2022-03-24T15:24:49.949139",
     "exception": false,
     "start_time": "2022-03-24T15:24:49.894391",
     "status": "completed"
    },
    "tags": []
   },
   "outputs": [],
   "source": [
    "# Добавление булевых столбцов с планетой-домом\n",
    "df_train['HomeEuropa'] = df_train['HomePlanet'] == 'Europa'\n",
    "df_train['HomeEarth'] = df_train['HomePlanet'] == 'Earth'\n",
    "df_train['HomeMars'] = df_train['HomePlanet'] == 'Mars'"
   ]
  },
  {
   "cell_type": "code",
   "execution_count": 20,
   "id": "575d5258",
   "metadata": {
    "execution": {
     "iopub.execute_input": "2022-03-24T15:24:50.036268Z",
     "iopub.status.busy": "2022-03-24T15:24:50.035744Z",
     "iopub.status.idle": "2022-03-24T15:24:50.041201Z",
     "shell.execute_reply": "2022-03-24T15:24:50.041599Z",
     "shell.execute_reply.started": "2022-03-24T15:07:36.144605Z"
    },
    "papermill": {
     "duration": 0.050705,
     "end_time": "2022-03-24T15:24:50.041748",
     "exception": false,
     "start_time": "2022-03-24T15:24:49.991043",
     "status": "completed"
    },
    "tags": []
   },
   "outputs": [
    {
     "data": {
      "text/plain": [
       "Destination\n",
       "55 Cancri e      1800\n",
       "PSO J318.5-22     796\n",
       "TRAPPIST-1e      5915\n",
       "Name: Transported, dtype: int64"
      ]
     },
     "execution_count": 20,
     "metadata": {},
     "output_type": "execute_result"
    }
   ],
   "source": [
    "df_train.groupby('Destination').Transported.count()"
   ]
  },
  {
   "cell_type": "code",
   "execution_count": 21,
   "id": "0792ad91",
   "metadata": {
    "execution": {
     "iopub.execute_input": "2022-03-24T15:24:50.129765Z",
     "iopub.status.busy": "2022-03-24T15:24:50.129221Z",
     "iopub.status.idle": "2022-03-24T15:24:50.136406Z",
     "shell.execute_reply": "2022-03-24T15:24:50.136920Z",
     "shell.execute_reply.started": "2022-03-24T15:07:36.940934Z"
    },
    "papermill": {
     "duration": 0.05316,
     "end_time": "2022-03-24T15:24:50.137060",
     "exception": false,
     "start_time": "2022-03-24T15:24:50.083900",
     "status": "completed"
    },
    "tags": []
   },
   "outputs": [],
   "source": [
    "# Добавление булевых столбцов с планетой прилета\n",
    "df_train['TRAPPIST-1e'] = df_train['Destination'] == 'TRAPPIST-1e'\n",
    "df_train['55 Cancri e'] = df_train['Destination'] == '55 Cancri e'\n",
    "df_train['PSO J318.5-22'] = df_train['Destination'] == 'PSO J318.5-22'"
   ]
  },
  {
   "cell_type": "code",
   "execution_count": 22,
   "id": "4251664d",
   "metadata": {
    "execution": {
     "iopub.execute_input": "2022-03-24T15:24:50.226216Z",
     "iopub.status.busy": "2022-03-24T15:24:50.224188Z",
     "iopub.status.idle": "2022-03-24T15:24:50.241492Z",
     "shell.execute_reply": "2022-03-24T15:24:50.241877Z",
     "shell.execute_reply.started": "2022-03-24T15:07:37.803317Z"
    },
    "papermill": {
     "duration": 0.062632,
     "end_time": "2022-03-24T15:24:50.242040",
     "exception": false,
     "start_time": "2022-03-24T15:24:50.179408",
     "status": "completed"
    },
    "tags": []
   },
   "outputs": [],
   "source": [
    "# Разделение столбцов с кабиной\n",
    "df_train[['deck', 'num', 'side']] = df_train['Cabin'].str.split('/',expand=True)"
   ]
  },
  {
   "cell_type": "code",
   "execution_count": 23,
   "id": "39d469ea",
   "metadata": {
    "execution": {
     "iopub.execute_input": "2022-03-24T15:24:50.329914Z",
     "iopub.status.busy": "2022-03-24T15:24:50.329417Z",
     "iopub.status.idle": "2022-03-24T15:24:50.351054Z",
     "shell.execute_reply": "2022-03-24T15:24:50.351495Z",
     "shell.execute_reply.started": "2022-03-24T15:07:38.429073Z"
    },
    "papermill": {
     "duration": 0.067205,
     "end_time": "2022-03-24T15:24:50.351721",
     "exception": false,
     "start_time": "2022-03-24T15:24:50.284516",
     "status": "completed"
    },
    "tags": []
   },
   "outputs": [],
   "source": [
    "df_train['index'] = df_train.index\n",
    "#df_train.index.str.split('_',expand=True)\n",
    "df_train[['group', 'number']] = df_train['index'].str.split('_',expand=True)\n",
    "df_train.drop(['index'], axis=1, inplace=True)"
   ]
  },
  {
   "cell_type": "code",
   "execution_count": 24,
   "id": "c676bb25",
   "metadata": {
    "execution": {
     "iopub.execute_input": "2022-03-24T15:24:50.438687Z",
     "iopub.status.busy": "2022-03-24T15:24:50.437897Z",
     "iopub.status.idle": "2022-03-24T15:24:50.482530Z",
     "shell.execute_reply": "2022-03-24T15:24:50.482027Z",
     "shell.execute_reply.started": "2022-03-24T15:07:39.115574Z"
    },
    "papermill": {
     "duration": 0.088409,
     "end_time": "2022-03-24T15:24:50.482637",
     "exception": false,
     "start_time": "2022-03-24T15:24:50.394228",
     "status": "completed"
    },
    "tags": []
   },
   "outputs": [],
   "source": [
    "for col in ['CryoSleep', 'HomeEuropa', 'VIP', 'Transported', 'HomeEarth', 'HomeMars', \n",
    "            'TRAPPIST-1e', '55 Cancri e', 'PSO J318.5-22', \n",
    "            'num', 'group', 'number']:\n",
    "    df_train[col] = pd.to_numeric(df_train[col], errors='coerce').astype('Int64')"
   ]
  },
  {
   "cell_type": "code",
   "execution_count": 25,
   "id": "58407275",
   "metadata": {
    "execution": {
     "iopub.execute_input": "2022-03-24T15:24:50.574429Z",
     "iopub.status.busy": "2022-03-24T15:24:50.573886Z",
     "iopub.status.idle": "2022-03-24T15:24:50.576420Z",
     "shell.execute_reply": "2022-03-24T15:24:50.576794Z",
     "shell.execute_reply.started": "2022-03-24T15:07:39.963834Z"
    },
    "papermill": {
     "duration": 0.051717,
     "end_time": "2022-03-24T15:24:50.576931",
     "exception": false,
     "start_time": "2022-03-24T15:24:50.525214",
     "status": "completed"
    },
    "tags": []
   },
   "outputs": [],
   "source": [
    "df_train.drop(['HomePlanet', 'Cabin', 'Destination', 'Name', 'deck', 'side'], axis=1, inplace=True)"
   ]
  },
  {
   "cell_type": "code",
   "execution_count": 26,
   "id": "7042aa1d",
   "metadata": {
    "execution": {
     "iopub.execute_input": "2022-03-24T15:24:50.682157Z",
     "iopub.status.busy": "2022-03-24T15:24:50.681597Z",
     "iopub.status.idle": "2022-03-24T15:24:50.684497Z",
     "shell.execute_reply": "2022-03-24T15:24:50.684871Z",
     "shell.execute_reply.started": "2022-03-24T15:07:40.351787Z"
    },
    "papermill": {
     "duration": 0.066146,
     "end_time": "2022-03-24T15:24:50.685008",
     "exception": false,
     "start_time": "2022-03-24T15:24:50.618862",
     "status": "completed"
    },
    "tags": []
   },
   "outputs": [
    {
     "data": {
      "text/html": [
       "<div>\n",
       "<style scoped>\n",
       "    .dataframe tbody tr th:only-of-type {\n",
       "        vertical-align: middle;\n",
       "    }\n",
       "\n",
       "    .dataframe tbody tr th {\n",
       "        vertical-align: top;\n",
       "    }\n",
       "\n",
       "    .dataframe thead th {\n",
       "        text-align: right;\n",
       "    }\n",
       "</style>\n",
       "<table border=\"1\" class=\"dataframe\">\n",
       "  <thead>\n",
       "    <tr style=\"text-align: right;\">\n",
       "      <th></th>\n",
       "      <th>CryoSleep</th>\n",
       "      <th>Age</th>\n",
       "      <th>VIP</th>\n",
       "      <th>RoomService</th>\n",
       "      <th>FoodCourt</th>\n",
       "      <th>ShoppingMall</th>\n",
       "      <th>Spa</th>\n",
       "      <th>VRDeck</th>\n",
       "      <th>Transported</th>\n",
       "      <th>HomeEuropa</th>\n",
       "      <th>HomeEarth</th>\n",
       "      <th>HomeMars</th>\n",
       "      <th>TRAPPIST-1e</th>\n",
       "      <th>55 Cancri e</th>\n",
       "      <th>PSO J318.5-22</th>\n",
       "      <th>num</th>\n",
       "      <th>group</th>\n",
       "      <th>number</th>\n",
       "    </tr>\n",
       "    <tr>\n",
       "      <th>PassengerId</th>\n",
       "      <th></th>\n",
       "      <th></th>\n",
       "      <th></th>\n",
       "      <th></th>\n",
       "      <th></th>\n",
       "      <th></th>\n",
       "      <th></th>\n",
       "      <th></th>\n",
       "      <th></th>\n",
       "      <th></th>\n",
       "      <th></th>\n",
       "      <th></th>\n",
       "      <th></th>\n",
       "      <th></th>\n",
       "      <th></th>\n",
       "      <th></th>\n",
       "      <th></th>\n",
       "      <th></th>\n",
       "    </tr>\n",
       "  </thead>\n",
       "  <tbody>\n",
       "    <tr>\n",
       "      <th>0001_01</th>\n",
       "      <td>0</td>\n",
       "      <td>39.0</td>\n",
       "      <td>0</td>\n",
       "      <td>0.0</td>\n",
       "      <td>0.0</td>\n",
       "      <td>0.0</td>\n",
       "      <td>0.0</td>\n",
       "      <td>0.0</td>\n",
       "      <td>0</td>\n",
       "      <td>1</td>\n",
       "      <td>0</td>\n",
       "      <td>0</td>\n",
       "      <td>1</td>\n",
       "      <td>0</td>\n",
       "      <td>0</td>\n",
       "      <td>0</td>\n",
       "      <td>1</td>\n",
       "      <td>1</td>\n",
       "    </tr>\n",
       "    <tr>\n",
       "      <th>0002_01</th>\n",
       "      <td>0</td>\n",
       "      <td>24.0</td>\n",
       "      <td>0</td>\n",
       "      <td>109.0</td>\n",
       "      <td>9.0</td>\n",
       "      <td>25.0</td>\n",
       "      <td>549.0</td>\n",
       "      <td>44.0</td>\n",
       "      <td>1</td>\n",
       "      <td>0</td>\n",
       "      <td>1</td>\n",
       "      <td>0</td>\n",
       "      <td>1</td>\n",
       "      <td>0</td>\n",
       "      <td>0</td>\n",
       "      <td>0</td>\n",
       "      <td>2</td>\n",
       "      <td>1</td>\n",
       "    </tr>\n",
       "    <tr>\n",
       "      <th>0003_01</th>\n",
       "      <td>0</td>\n",
       "      <td>58.0</td>\n",
       "      <td>1</td>\n",
       "      <td>43.0</td>\n",
       "      <td>3576.0</td>\n",
       "      <td>0.0</td>\n",
       "      <td>6715.0</td>\n",
       "      <td>49.0</td>\n",
       "      <td>0</td>\n",
       "      <td>1</td>\n",
       "      <td>0</td>\n",
       "      <td>0</td>\n",
       "      <td>1</td>\n",
       "      <td>0</td>\n",
       "      <td>0</td>\n",
       "      <td>0</td>\n",
       "      <td>3</td>\n",
       "      <td>1</td>\n",
       "    </tr>\n",
       "    <tr>\n",
       "      <th>0003_02</th>\n",
       "      <td>0</td>\n",
       "      <td>33.0</td>\n",
       "      <td>0</td>\n",
       "      <td>0.0</td>\n",
       "      <td>1283.0</td>\n",
       "      <td>371.0</td>\n",
       "      <td>3329.0</td>\n",
       "      <td>193.0</td>\n",
       "      <td>0</td>\n",
       "      <td>1</td>\n",
       "      <td>0</td>\n",
       "      <td>0</td>\n",
       "      <td>1</td>\n",
       "      <td>0</td>\n",
       "      <td>0</td>\n",
       "      <td>0</td>\n",
       "      <td>3</td>\n",
       "      <td>2</td>\n",
       "    </tr>\n",
       "    <tr>\n",
       "      <th>0004_01</th>\n",
       "      <td>0</td>\n",
       "      <td>16.0</td>\n",
       "      <td>0</td>\n",
       "      <td>303.0</td>\n",
       "      <td>70.0</td>\n",
       "      <td>151.0</td>\n",
       "      <td>565.0</td>\n",
       "      <td>2.0</td>\n",
       "      <td>1</td>\n",
       "      <td>0</td>\n",
       "      <td>1</td>\n",
       "      <td>0</td>\n",
       "      <td>1</td>\n",
       "      <td>0</td>\n",
       "      <td>0</td>\n",
       "      <td>1</td>\n",
       "      <td>4</td>\n",
       "      <td>1</td>\n",
       "    </tr>\n",
       "  </tbody>\n",
       "</table>\n",
       "</div>"
      ],
      "text/plain": [
       "             CryoSleep   Age  VIP  RoomService  FoodCourt  ShoppingMall  \\\n",
       "PassengerId                                                               \n",
       "0001_01              0  39.0    0          0.0        0.0           0.0   \n",
       "0002_01              0  24.0    0        109.0        9.0          25.0   \n",
       "0003_01              0  58.0    1         43.0     3576.0           0.0   \n",
       "0003_02              0  33.0    0          0.0     1283.0         371.0   \n",
       "0004_01              0  16.0    0        303.0       70.0         151.0   \n",
       "\n",
       "                Spa  VRDeck  Transported  HomeEuropa  HomeEarth  HomeMars  \\\n",
       "PassengerId                                                                 \n",
       "0001_01         0.0     0.0            0           1          0         0   \n",
       "0002_01       549.0    44.0            1           0          1         0   \n",
       "0003_01      6715.0    49.0            0           1          0         0   \n",
       "0003_02      3329.0   193.0            0           1          0         0   \n",
       "0004_01       565.0     2.0            1           0          1         0   \n",
       "\n",
       "             TRAPPIST-1e  55 Cancri e  PSO J318.5-22  num  group  number  \n",
       "PassengerId                                                               \n",
       "0001_01                1            0              0    0      1       1  \n",
       "0002_01                1            0              0    0      2       1  \n",
       "0003_01                1            0              0    0      3       1  \n",
       "0003_02                1            0              0    0      3       2  \n",
       "0004_01                1            0              0    1      4       1  "
      ]
     },
     "execution_count": 26,
     "metadata": {},
     "output_type": "execute_result"
    }
   ],
   "source": [
    "df_train.head()"
   ]
  },
  {
   "cell_type": "code",
   "execution_count": 27,
   "id": "bafbcc3c",
   "metadata": {
    "execution": {
     "iopub.execute_input": "2022-03-24T15:24:50.776365Z",
     "iopub.status.busy": "2022-03-24T15:24:50.775829Z",
     "iopub.status.idle": "2022-03-24T15:24:50.779828Z",
     "shell.execute_reply": "2022-03-24T15:24:50.780282Z",
     "shell.execute_reply.started": "2022-03-24T15:07:41.275868Z"
    },
    "papermill": {
     "duration": 0.052497,
     "end_time": "2022-03-24T15:24:50.780438",
     "exception": false,
     "start_time": "2022-03-24T15:24:50.727941",
     "status": "completed"
    },
    "tags": []
   },
   "outputs": [],
   "source": [
    "# print(pd.concat([df_train.groupby('deck').Transported.sum(),\n",
    "#                 df_train.groupby('deck').Transported.count()], axis=1))\n",
    "#                 #.plot(kind='hist')"
   ]
  },
  {
   "cell_type": "code",
   "execution_count": 28,
   "id": "dcaf6491",
   "metadata": {
    "execution": {
     "iopub.execute_input": "2022-03-24T15:24:50.868262Z",
     "iopub.status.busy": "2022-03-24T15:24:50.867767Z",
     "iopub.status.idle": "2022-03-24T15:24:51.187011Z",
     "shell.execute_reply": "2022-03-24T15:24:51.187534Z",
     "shell.execute_reply.started": "2022-03-24T15:07:42.346133Z"
    },
    "papermill": {
     "duration": 0.36472,
     "end_time": "2022-03-24T15:24:51.187719",
     "exception": false,
     "start_time": "2022-03-24T15:24:50.822999",
     "status": "completed"
    },
    "tags": []
   },
   "outputs": [
    {
     "data": {
      "text/plain": [
       "<AxesSubplot:ylabel='Density'>"
      ]
     },
     "execution_count": 28,
     "metadata": {},
     "output_type": "execute_result"
    },
    {
     "data": {
      "image/png": "[encoded data removed]",
      "text/plain": [
       "<Figure size 432x288 with 1 Axes>"
      ]
     },
     "metadata": {
      "needs_background": "light"
     },
     "output_type": "display_data"
    }
   ],
   "source": [
    "df_train.groupby('num').Transported.count().plot(kind='kde', xlim=[0, 30])\n",
    "df_train.groupby('num').Transported.sum().plot(kind='kde', xlim=[0, 30])"
   ]
  },
  {
   "cell_type": "code",
   "execution_count": 29,
   "id": "c89558fd",
   "metadata": {
    "execution": {
     "iopub.execute_input": "2022-03-24T15:24:51.325799Z",
     "iopub.status.busy": "2022-03-24T15:24:51.325128Z",
     "iopub.status.idle": "2022-03-24T15:24:51.328365Z",
     "shell.execute_reply": "2022-03-24T15:24:51.328903Z",
     "shell.execute_reply.started": "2022-03-24T15:07:42.830063Z"
    },
    "papermill": {
     "duration": 0.073671,
     "end_time": "2022-03-24T15:24:51.329093",
     "exception": false,
     "start_time": "2022-03-24T15:24:51.255422",
     "status": "completed"
    },
    "tags": []
   },
   "outputs": [],
   "source": [
    "# print(pd.concat([df_train.groupby('side').Transported.sum(),\n",
    "#                 df_train.groupby('side').Transported.count()], axis=1))"
   ]
  },
  {
   "cell_type": "markdown",
   "id": "529f4a5c",
   "metadata": {
    "papermill": {
     "duration": 0.065325,
     "end_time": "2022-03-24T15:24:51.461799",
     "exception": false,
     "start_time": "2022-03-24T15:24:51.396474",
     "status": "completed"
    },
    "tags": []
   },
   "source": [
    "# Model"
   ]
  },
  {
   "cell_type": "code",
   "execution_count": 30,
   "id": "1ec9f2b6",
   "metadata": {
    "execution": {
     "iopub.execute_input": "2022-03-24T15:24:51.598592Z",
     "iopub.status.busy": "2022-03-24T15:24:51.597915Z",
     "iopub.status.idle": "2022-03-24T15:24:51.603744Z",
     "shell.execute_reply": "2022-03-24T15:24:51.604306Z",
     "shell.execute_reply.started": "2022-03-24T15:07:43.629350Z"
    },
    "papermill": {
     "duration": 0.076299,
     "end_time": "2022-03-24T15:24:51.604490",
     "exception": false,
     "start_time": "2022-03-24T15:24:51.528191",
     "status": "completed"
    },
    "tags": []
   },
   "outputs": [
    {
     "data": {
      "text/plain": [
       "Index(['CryoSleep', 'Age', 'VIP', 'RoomService', 'FoodCourt', 'ShoppingMall',\n",
       "       'Spa', 'VRDeck', 'Transported', 'HomeEuropa', 'HomeEarth', 'HomeMars',\n",
       "       'TRAPPIST-1e', '55 Cancri e', 'PSO J318.5-22', 'num', 'group',\n",
       "       'number'],\n",
       "      dtype='object')"
      ]
     },
     "execution_count": 30,
     "metadata": {},
     "output_type": "execute_result"
    }
   ],
   "source": [
    "df_train.columns"
   ]
  },
  {
   "cell_type": "code",
   "execution_count": 31,
   "id": "5a39bbaf",
   "metadata": {
    "execution": {
     "iopub.execute_input": "2022-03-24T15:24:51.742535Z",
     "iopub.status.busy": "2022-03-24T15:24:51.741879Z",
     "iopub.status.idle": "2022-03-24T15:24:51.753192Z",
     "shell.execute_reply": "2022-03-24T15:24:51.753705Z",
     "shell.execute_reply.started": "2022-03-24T15:07:44.796680Z"
    },
    "papermill": {
     "duration": 0.082063,
     "end_time": "2022-03-24T15:24:51.753862",
     "exception": false,
     "start_time": "2022-03-24T15:24:51.671799",
     "status": "completed"
    },
    "tags": []
   },
   "outputs": [
    {
     "name": "stdout",
     "output_type": "stream",
     "text": [
      "Droped: 1214.00 (13.97)\n"
     ]
    }
   ],
   "source": [
    "#df_train = replace_train(df_train)\n",
    "df_train = droped_NaN_row(df_train)"
   ]
  },
  {
   "cell_type": "code",
   "execution_count": 32,
   "id": "dc0ad658",
   "metadata": {
    "execution": {
     "iopub.execute_input": "2022-03-24T15:24:51.893834Z",
     "iopub.status.busy": "2022-03-24T15:24:51.893178Z",
     "iopub.status.idle": "2022-03-24T15:24:51.897991Z",
     "shell.execute_reply": "2022-03-24T15:24:51.898565Z",
     "shell.execute_reply.started": "2022-03-24T15:07:45.814269Z"
    },
    "papermill": {
     "duration": 0.076161,
     "end_time": "2022-03-24T15:24:51.898738",
     "exception": false,
     "start_time": "2022-03-24T15:24:51.822577",
     "status": "completed"
    },
    "tags": []
   },
   "outputs": [],
   "source": [
    "y = df_train.Transported\n",
    "\n",
    "feature_names = ['CryoSleep', 'Age', 'VIP', 'RoomService', 'FoodCourt', 'ShoppingMall',\n",
    "       'Spa', 'VRDeck', 'HomeEuropa', 'HomeEarth', 'HomeMars',\n",
    "       'TRAPPIST-1e', '55 Cancri e', 'PSO J318.5-22']\n",
    "x = df_train[feature_names]"
   ]
  },
  {
   "cell_type": "code",
   "execution_count": 33,
   "id": "8139f263",
   "metadata": {
    "execution": {
     "iopub.execute_input": "2022-03-24T15:24:52.038062Z",
     "iopub.status.busy": "2022-03-24T15:24:52.037201Z",
     "iopub.status.idle": "2022-03-24T15:24:52.045465Z",
     "shell.execute_reply": "2022-03-24T15:24:52.046037Z",
     "shell.execute_reply.started": "2022-03-24T15:07:46.521791Z"
    },
    "papermill": {
     "duration": 0.07867,
     "end_time": "2022-03-24T15:24:52.046259",
     "exception": false,
     "start_time": "2022-03-24T15:24:51.967589",
     "status": "completed"
    },
    "tags": []
   },
   "outputs": [],
   "source": [
    "train_x, val_x, train_y, val_y = train_test_split(x, y, random_state = 1)"
   ]
  },
  {
   "cell_type": "code",
   "execution_count": 34,
   "id": "8f80daee",
   "metadata": {
    "execution": {
     "iopub.execute_input": "2022-03-24T15:24:52.186884Z",
     "iopub.status.busy": "2022-03-24T15:24:52.186144Z",
     "iopub.status.idle": "2022-03-24T15:24:52.211543Z",
     "shell.execute_reply": "2022-03-24T15:24:52.212186Z",
     "shell.execute_reply.started": "2022-03-24T15:10:38.420072Z"
    },
    "papermill": {
     "duration": 0.098238,
     "end_time": "2022-03-24T15:24:52.212350",
     "exception": false,
     "start_time": "2022-03-24T15:24:52.114112",
     "status": "completed"
    },
    "tags": []
   },
   "outputs": [
    {
     "name": "stdout",
     "output_type": "stream",
     "text": [
      "0.24064171122994651\n"
     ]
    }
   ],
   "source": [
    "# Деревья решений\n",
    "DTR_model = DecisionTreeRegressor(random_state=1)\n",
    "\n",
    "DTR_model.fit(train_x, train_y)\n",
    "\n",
    "DTR_pred = DTR_model.predict(val_x)\n",
    "\n",
    "\n",
    "DTR_pred[DTR_pred < 0.5] = 0\n",
    "DTR_pred[DTR_pred >= 0.5] = 1\n",
    "\n",
    "print(mean_absolute_error(np.asarray(val_y), DTR_pred))"
   ]
  },
  {
   "cell_type": "code",
   "execution_count": 35,
   "id": "657ab27e",
   "metadata": {
    "execution": {
     "iopub.execute_input": "2022-03-24T15:24:52.356305Z",
     "iopub.status.busy": "2022-03-24T15:24:52.355622Z",
     "iopub.status.idle": "2022-03-24T15:24:53.997501Z",
     "shell.execute_reply": "2022-03-24T15:24:53.997997Z",
     "shell.execute_reply.started": "2022-03-24T15:10:40.921185Z"
    },
    "papermill": {
     "duration": 1.717165,
     "end_time": "2022-03-24T15:24:53.998217",
     "exception": false,
     "start_time": "2022-03-24T15:24:52.281052",
     "status": "completed"
    },
    "tags": []
   },
   "outputs": [
    {
     "name": "stdout",
     "output_type": "stream",
     "text": [
      "0.2016042780748663\n"
     ]
    }
   ],
   "source": [
    "# Рандомный деревья решений\n",
    "from sklearn.ensemble import RandomForestRegressor\n",
    "\n",
    "RFR_model = RandomForestRegressor(random_state=1)\n",
    "\n",
    "RFR_model.fit(train_x, train_y)\n",
    "\n",
    "RFR_pred = RFR_model.predict(val_x)\n",
    "\n",
    "RFR_pred[RFR_pred < 0.5] = 0\n",
    "RFR_pred[RFR_pred >= 0.5] = 1\n",
    "\n",
    "print(mean_absolute_error(np.asarray(val_y), RFR_pred))"
   ]
  },
  {
   "cell_type": "code",
   "execution_count": 36,
   "id": "ec0e682d",
   "metadata": {
    "execution": {
     "iopub.execute_input": "2022-03-24T15:24:54.117009Z",
     "iopub.status.busy": "2022-03-24T15:24:54.116543Z",
     "iopub.status.idle": "2022-03-24T15:24:54.381883Z",
     "shell.execute_reply": "2022-03-24T15:24:54.381296Z",
     "shell.execute_reply.started": "2022-03-24T15:10:43.409696Z"
    },
    "papermill": {
     "duration": 0.313436,
     "end_time": "2022-03-24T15:24:54.382059",
     "exception": false,
     "start_time": "2022-03-24T15:24:54.068623",
     "status": "completed"
    },
    "tags": []
   },
   "outputs": [
    {
     "name": "stdout",
     "output_type": "stream",
     "text": [
      "0.21122994652406418\n"
     ]
    }
   ],
   "source": [
    "# Метод K ближайших соседей\n",
    "from sklearn.neighbors import KNeighborsClassifier\n",
    "#from sklearn.preprocessing import StandardScaler\n",
    "\n",
    "# scaler = StandardScaler()\n",
    "# scaler.fit(train_x)\n",
    "# train_x_new = scaler.transform(train_x)\n",
    "# val_x_new = scaler.transform(val_x)\n",
    "\n",
    "classifier = KNeighborsClassifier(n_neighbors=5)\n",
    "classifier.fit(train_x, train_y.astype(int))\n",
    "\n",
    "KNN_pred = classifier.predict(val_x)\n",
    "\n",
    "KNN_pred[KNN_pred < 0.5] = 0\n",
    "KNN_pred[KNN_pred >= 0.5] = 1\n",
    "\n",
    "print(mean_absolute_error(np.asarray(val_y), KNN_pred))"
   ]
  },
  {
   "cell_type": "code",
   "execution_count": 37,
   "id": "b34272e5",
   "metadata": {
    "execution": {
     "iopub.execute_input": "2022-03-24T15:24:54.480393Z",
     "iopub.status.busy": "2022-03-24T15:24:54.479835Z",
     "iopub.status.idle": "2022-03-24T15:24:54.497914Z",
     "shell.execute_reply": "2022-03-24T15:24:54.498537Z",
     "shell.execute_reply.started": "2022-03-24T15:10:45.828285Z"
    },
    "papermill": {
     "duration": 0.06897,
     "end_time": "2022-03-24T15:24:54.498708",
     "exception": false,
     "start_time": "2022-03-24T15:24:54.429738",
     "status": "completed"
    },
    "tags": []
   },
   "outputs": [
    {
     "name": "stdout",
     "output_type": "stream",
     "text": [
      "0.2716577540106952\n"
     ]
    }
   ],
   "source": [
    "# Гауссов наивный Байес\n",
    "from sklearn.naive_bayes import GaussianNB\n",
    "\n",
    "GNB_model = GaussianNB()\n",
    "GNB_model.fit(train_x, train_y.astype(int))\n",
    "\n",
    "GNB_pred = GNB_model.predict(val_x)\n",
    "\n",
    "GNB_pred[GNB_pred < 0.5] = 0\n",
    "GNB_pred[GNB_pred >= 0.5] = 1\n",
    "\n",
    "print(mean_absolute_error(np.asarray(val_y), GNB_pred))"
   ]
  },
  {
   "cell_type": "code",
   "execution_count": 38,
   "id": "cfb3c9b7",
   "metadata": {
    "execution": {
     "iopub.execute_input": "2022-03-24T15:24:54.597006Z",
     "iopub.status.busy": "2022-03-24T15:24:54.596468Z",
     "iopub.status.idle": "2022-03-24T15:24:54.598844Z",
     "shell.execute_reply": "2022-03-24T15:24:54.599243Z",
     "shell.execute_reply.started": "2022-03-24T15:07:57.281768Z"
    },
    "papermill": {
     "duration": 0.053768,
     "end_time": "2022-03-24T15:24:54.599389",
     "exception": false,
     "start_time": "2022-03-24T15:24:54.545621",
     "status": "completed"
    },
    "tags": []
   },
   "outputs": [],
   "source": [
    "# Метод опорных векторов\n",
    "# from sklearn.svm import SVC\n",
    "\n",
    "# SVC_model = SVC(kernel='linear')\n",
    "# SVC_model.fit(train_x, train_y.astype(int))\n",
    "\n",
    "# SVC_pred = SVC_model.predict(val_x)\n",
    "\n",
    "# print(mean_absolute_error(np.asarray(val_y), SVC_pred))"
   ]
  },
  {
   "cell_type": "code",
   "execution_count": 39,
   "id": "92521a35",
   "metadata": {
    "execution": {
     "iopub.execute_input": "2022-03-24T15:24:54.697153Z",
     "iopub.status.busy": "2022-03-24T15:24:54.696627Z",
     "iopub.status.idle": "2022-03-24T15:24:54.701611Z",
     "shell.execute_reply": "2022-03-24T15:24:54.701105Z",
     "shell.execute_reply.started": "2022-03-24T15:11:40.661338Z"
    },
    "papermill": {
     "duration": 0.057252,
     "end_time": "2022-03-24T15:24:54.701725",
     "exception": false,
     "start_time": "2022-03-24T15:24:54.644473",
     "status": "completed"
    },
    "tags": []
   },
   "outputs": [
    {
     "name": "stdout",
     "output_type": "stream",
     "text": [
      "0.2016042780748663\n"
     ]
    }
   ],
   "source": [
    "all_pred = (KNN_pred + RFR_pred + DTR_pred)/3\n",
    "\n",
    "all_pred[all_pred < 0.5] = 0\n",
    "all_pred[all_pred >= 0.5] = 1\n",
    "\n",
    "print(mean_absolute_error(np.asarray(val_y), all_pred))"
   ]
  },
  {
   "cell_type": "code",
   "execution_count": null,
   "id": "59af2a6a",
   "metadata": {
    "papermill": {
     "duration": 0.045849,
     "end_time": "2022-03-24T15:24:54.794050",
     "exception": false,
     "start_time": "2022-03-24T15:24:54.748201",
     "status": "completed"
    },
    "tags": []
   },
   "outputs": [],
   "source": []
  }
 ],
 "metadata": {
  "kernelspec": {
   "display_name": "Python 3",
   "language": "python",
   "name": "python3"
  },
  "language_info": {
   "codemirror_mode": {
    "name": "ipython",
    "version": 3
   },
   "file_extension": ".py",
   "mimetype": "text/x-python",
   "name": "python",
   "nbconvert_exporter": "python",
   "pygments_lexer": "ipython3",
   "version": "3.7.12"
  },
  "papermill": {
   "default_parameters": {},
   "duration": 22.292609,
   "end_time": "2022-03-24T15:24:55.853141",
   "environment_variables": {},
   "exception": null,
   "input_path": "__notebook__.ipynb",
   "output_path": "__notebook__.ipynb",
   "parameters": {},
   "start_time": "2022-03-24T15:24:33.560532",
   "version": "2.3.3"
  }
 },
 "nbformat": 4,
 "nbformat_minor": 5
}
